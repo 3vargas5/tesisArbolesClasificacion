{
  "cells": [
    {
      "cell_type": "markdown",
      "metadata": {
        "id": "6FF90mPX2H4d"
      },
      "source": [
        "# Árboles de Clasificación desde 0 en Python!"
      ]
    },
    {
      "cell_type": "markdown",
      "metadata": {
        "id": "tW71CZPk2H4r"
      },
      "source": [
        "En este notebook se mostrará un código para ejecutar un árbol de clasificación. La idea del código en general esta basada en https://github.com/Suji04/ML_from_Scratch/blob/master/decision%20tree%20classification.ipynb. No obstante, el código desarrollado aquí esta adaptado para tomar variables independiente cualitativas, agrega el podado y hace la gráfica del árbol."
      ]
    },
    {
      "cell_type": "markdown",
      "metadata": {
        "id": "yu0LSCRt2H4t"
      },
      "source": [
        "Primero importaremos algunos paquetes que son de suma utilidad. Y además, se definirá la base de datos"
      ]
    },
    {
      "cell_type": "code",
      "execution_count": 144,
      "metadata": {
        "colab": {
          "base_uri": "https://localhost:8080/",
          "height": 206
        },
        "id": "JiHSt7-A2H4u",
        "outputId": "831a94eb-0a88-4b0d-bef4-3d32d6f6678f"
      },
      "outputs": [
        {
          "output_type": "execute_result",
          "data": {
            "text/plain": [
              "   SepalLengthCm  SepalWidthCm  PetalLengthCm  PetalWidthCm      Species\n",
              "0            5.1           3.5            1.4           0.2  Iris-setosa\n",
              "1            4.9           3.0            1.4           0.2  Iris-setosa\n",
              "2            4.7           3.2            1.3           0.2  Iris-setosa\n",
              "3            4.6           3.1            1.5           0.2  Iris-setosa\n",
              "4            5.0           3.6            1.4           0.2  Iris-setosa"
            ],
            "text/html": [
              "\n",
              "  <div id=\"df-c8cd0492-046b-4fd1-82b4-7c1e31e2f8bc\">\n",
              "    <div class=\"colab-df-container\">\n",
              "      <div>\n",
              "<style scoped>\n",
              "    .dataframe tbody tr th:only-of-type {\n",
              "        vertical-align: middle;\n",
              "    }\n",
              "\n",
              "    .dataframe tbody tr th {\n",
              "        vertical-align: top;\n",
              "    }\n",
              "\n",
              "    .dataframe thead th {\n",
              "        text-align: right;\n",
              "    }\n",
              "</style>\n",
              "<table border=\"1\" class=\"dataframe\">\n",
              "  <thead>\n",
              "    <tr style=\"text-align: right;\">\n",
              "      <th></th>\n",
              "      <th>SepalLengthCm</th>\n",
              "      <th>SepalWidthCm</th>\n",
              "      <th>PetalLengthCm</th>\n",
              "      <th>PetalWidthCm</th>\n",
              "      <th>Species</th>\n",
              "    </tr>\n",
              "  </thead>\n",
              "  <tbody>\n",
              "    <tr>\n",
              "      <th>0</th>\n",
              "      <td>5.1</td>\n",
              "      <td>3.5</td>\n",
              "      <td>1.4</td>\n",
              "      <td>0.2</td>\n",
              "      <td>Iris-setosa</td>\n",
              "    </tr>\n",
              "    <tr>\n",
              "      <th>1</th>\n",
              "      <td>4.9</td>\n",
              "      <td>3.0</td>\n",
              "      <td>1.4</td>\n",
              "      <td>0.2</td>\n",
              "      <td>Iris-setosa</td>\n",
              "    </tr>\n",
              "    <tr>\n",
              "      <th>2</th>\n",
              "      <td>4.7</td>\n",
              "      <td>3.2</td>\n",
              "      <td>1.3</td>\n",
              "      <td>0.2</td>\n",
              "      <td>Iris-setosa</td>\n",
              "    </tr>\n",
              "    <tr>\n",
              "      <th>3</th>\n",
              "      <td>4.6</td>\n",
              "      <td>3.1</td>\n",
              "      <td>1.5</td>\n",
              "      <td>0.2</td>\n",
              "      <td>Iris-setosa</td>\n",
              "    </tr>\n",
              "    <tr>\n",
              "      <th>4</th>\n",
              "      <td>5.0</td>\n",
              "      <td>3.6</td>\n",
              "      <td>1.4</td>\n",
              "      <td>0.2</td>\n",
              "      <td>Iris-setosa</td>\n",
              "    </tr>\n",
              "  </tbody>\n",
              "</table>\n",
              "</div>\n",
              "      <button class=\"colab-df-convert\" onclick=\"convertToInteractive('df-c8cd0492-046b-4fd1-82b4-7c1e31e2f8bc')\"\n",
              "              title=\"Convert this dataframe to an interactive table.\"\n",
              "              style=\"display:none;\">\n",
              "        \n",
              "  <svg xmlns=\"http://www.w3.org/2000/svg\" height=\"24px\"viewBox=\"0 0 24 24\"\n",
              "       width=\"24px\">\n",
              "    <path d=\"M0 0h24v24H0V0z\" fill=\"none\"/>\n",
              "    <path d=\"M18.56 5.44l.94 2.06.94-2.06 2.06-.94-2.06-.94-.94-2.06-.94 2.06-2.06.94zm-11 1L8.5 8.5l.94-2.06 2.06-.94-2.06-.94L8.5 2.5l-.94 2.06-2.06.94zm10 10l.94 2.06.94-2.06 2.06-.94-2.06-.94-.94-2.06-.94 2.06-2.06.94z\"/><path d=\"M17.41 7.96l-1.37-1.37c-.4-.4-.92-.59-1.43-.59-.52 0-1.04.2-1.43.59L10.3 9.45l-7.72 7.72c-.78.78-.78 2.05 0 2.83L4 21.41c.39.39.9.59 1.41.59.51 0 1.02-.2 1.41-.59l7.78-7.78 2.81-2.81c.8-.78.8-2.07 0-2.86zM5.41 20L4 18.59l7.72-7.72 1.47 1.35L5.41 20z\"/>\n",
              "  </svg>\n",
              "      </button>\n",
              "      \n",
              "  <style>\n",
              "    .colab-df-container {\n",
              "      display:flex;\n",
              "      flex-wrap:wrap;\n",
              "      gap: 12px;\n",
              "    }\n",
              "\n",
              "    .colab-df-convert {\n",
              "      background-color: #E8F0FE;\n",
              "      border: none;\n",
              "      border-radius: 50%;\n",
              "      cursor: pointer;\n",
              "      display: none;\n",
              "      fill: #1967D2;\n",
              "      height: 32px;\n",
              "      padding: 0 0 0 0;\n",
              "      width: 32px;\n",
              "    }\n",
              "\n",
              "    .colab-df-convert:hover {\n",
              "      background-color: #E2EBFA;\n",
              "      box-shadow: 0px 1px 2px rgba(60, 64, 67, 0.3), 0px 1px 3px 1px rgba(60, 64, 67, 0.15);\n",
              "      fill: #174EA6;\n",
              "    }\n",
              "\n",
              "    [theme=dark] .colab-df-convert {\n",
              "      background-color: #3B4455;\n",
              "      fill: #D2E3FC;\n",
              "    }\n",
              "\n",
              "    [theme=dark] .colab-df-convert:hover {\n",
              "      background-color: #434B5C;\n",
              "      box-shadow: 0px 1px 3px 1px rgba(0, 0, 0, 0.15);\n",
              "      filter: drop-shadow(0px 1px 2px rgba(0, 0, 0, 0.3));\n",
              "      fill: #FFFFFF;\n",
              "    }\n",
              "  </style>\n",
              "\n",
              "      <script>\n",
              "        const buttonEl =\n",
              "          document.querySelector('#df-c8cd0492-046b-4fd1-82b4-7c1e31e2f8bc button.colab-df-convert');\n",
              "        buttonEl.style.display =\n",
              "          google.colab.kernel.accessAllowed ? 'block' : 'none';\n",
              "\n",
              "        async function convertToInteractive(key) {\n",
              "          const element = document.querySelector('#df-c8cd0492-046b-4fd1-82b4-7c1e31e2f8bc');\n",
              "          const dataTable =\n",
              "            await google.colab.kernel.invokeFunction('convertToInteractive',\n",
              "                                                     [key], {});\n",
              "          if (!dataTable) return;\n",
              "\n",
              "          const docLinkHtml = 'Like what you see? Visit the ' +\n",
              "            '<a target=\"_blank\" href=https://colab.research.google.com/notebooks/data_table.ipynb>data table notebook</a>'\n",
              "            + ' to learn more about interactive tables.';\n",
              "          element.innerHTML = '';\n",
              "          dataTable['output_type'] = 'display_data';\n",
              "          await google.colab.output.renderOutput(dataTable, element);\n",
              "          const docLink = document.createElement('div');\n",
              "          docLink.innerHTML = docLinkHtml;\n",
              "          element.appendChild(docLink);\n",
              "        }\n",
              "      </script>\n",
              "    </div>\n",
              "  </div>\n",
              "  "
            ]
          },
          "metadata": {},
          "execution_count": 144
        }
      ],
      "source": [
        "#Paquetes\n",
        "import pandas as pd #Importa el formato de Dataframes Pandas (notado como pd)\n",
        "import numpy as np  #Algunas operaciones de listas, números, etc (notado como np)\n",
        "from fractions import Fraction # Herramienta de fracciones para tener una exactitud en las proporciones\n",
        "import graphviz # Ayuda a graficar los árboles\n",
        "\n",
        "\n",
        "#Base de datos (importada de gitHub)\n",
        "url = \"https://raw.githubusercontent.com/3vargas5/tesisArbolesClasificacion/main/basesdeDatos/baseDatosIris.csv\"\n",
        "datos = pd.read_csv(url)\n",
        "#Removemos la columna \"Id\"\n",
        "datos.pop(\"Id\")\n",
        "#Visualizamos la tabla\n",
        "datos.head()"
      ]
    },
    {
      "cell_type": "markdown",
      "metadata": {
        "id": "6ztWYJs02H4z"
      },
      "source": [
        "Para comenzar, se creará el formato de los nodos para que guarden la información conseguida."
      ]
    },
    {
      "cell_type": "code",
      "execution_count": 2,
      "metadata": {
        "id": "5wHRmqNN2H40"
      },
      "outputs": [],
      "source": [
        "class nodo:\n",
        "    def __init__(\n",
        "        self,mejor_variable = None,\n",
        "        threshold = None,\n",
        "        hoja_izq = None,\n",
        "        hoja_der = None,\n",
        "        etiqueta = None,\n",
        "        impureza = None,\n",
        "        estadoNodo = None,\n",
        "        data = None):\n",
        "      self.mejor_variable = mejor_variable  #Guarda la mejor variable juzgada por la función de disminución de impureza\n",
        "      self.threshold = threshold            #Guarda el mejor umbral de la variable por la función de disminución de impureza\n",
        "      self.hoja_izq = hoja_izq              #Guarda el nodo izquierdo resultado de una división\n",
        "      self.hoja_der = hoja_der              #Guarda el nodo derecho resultado de una división\n",
        "      self.etiqueta = etiqueta              #Guarda la clase representante del nodo (tomando la clase de mayor proporción)\n",
        "      self.impureza = impureza              #Guarda la reducción de la impureza de la variable y el umbral.\n",
        "      self.estadoNodo = estadoNodo          #Guarda el estado del nodo (hoja, no terminal)\n",
        "      self.data = data                      #Guarda un dataframe con los datos que residen en el nodo"
      ]
    },
    {
      "cell_type": "markdown",
      "metadata": {
        "id": "gbl6EtEv2H42"
      },
      "source": [
        "Definimos la función de impureza: En este caso se define Gini y Entropia, se puede tomar cualquiera."
      ]
    },
    {
      "cell_type": "code",
      "execution_count": 3,
      "metadata": {
        "id": "Pe57VqKG2H43"
      },
      "outputs": [],
      "source": [
        "def funcImpGini(datos) -> float:\n",
        "    y = datos[datos.columns[-1]]\n",
        "    proporciones = y.value_counts(normalize=True)\n",
        "    suma = 0\n",
        "    for i in proporciones:\n",
        "      suma += i**2\n",
        "    return 1-suma\n",
        "\n",
        "def funcImpEntropia(datos) -> float:\n",
        "    y = datos[datos.columns[-1]]\n",
        "    proporciones = y.value_counts(normalize=True)\n",
        "    suma = 0\n",
        "    for i in proporciones:\n",
        "      if i == 0:\n",
        "        continue\n",
        "      else:\n",
        "        suma += i*np.log2(i)\n",
        "    return -suma"
      ]
    },
    {
      "cell_type": "markdown",
      "metadata": {
        "id": "v_AswZR62H45"
      },
      "source": [
        "Se define ahora la función de reducción de impureza:"
      ]
    },
    {
      "cell_type": "code",
      "execution_count": 4,
      "metadata": {
        "id": "z82WYS1x2H46"
      },
      "outputs": [],
      "source": [
        "def funcReducImp(nodo,nodo_izq,nodo_der,funcImp = funcImpGini) -> float: #Por defecto la funcion de impureza Gini\n",
        "    tamano_nodo, tamano_nodo_izq, tamano_nodo_der = nodo.shape[0],nodo_izq.shape[0],nodo_der.shape[0]\n",
        "    impureza_nodo = funcImp(nodo)\n",
        "    impureza_nodo_izq, impureza_nodo_der = funcImp(nodo_izq), funcImp(nodo_der)\n",
        "    prop_nodo_izq, prop_nodo_der = tamano_nodo_izq / tamano_nodo, tamano_nodo_der / tamano_nodo\n",
        "    return impureza_nodo - prop_nodo_izq * impureza_nodo_izq - prop_nodo_der * impureza_nodo_der\n",
        "    "
      ]
    },
    {
      "cell_type": "markdown",
      "metadata": {
        "id": "0BurExAy2H48"
      },
      "source": [
        "Ahora bien, se generará un conjunto de umbrales para cada variable con el fin de ser juzgados por la función de impureza y así tomar la mejor variable y umbral para un nodo. El resultado será un diccionario que almacena los datos de la mejor variable, junto a su umbral y los datos de sus hojas (para usar el modelo estos mismo datos se guardan en la clase Nodo)"
      ]
    },
    {
      "cell_type": "code",
      "execution_count": 5,
      "metadata": {
        "id": "wQiwsMmM2H49"
      },
      "outputs": [],
      "source": [
        "def mejor_variable_nodo(datos,funcImp = funcImpGini):\n",
        "    dicMejor = {} #Aqui se guarda la información de la mejor_variable\n",
        "    max = 0  # Se toma un valor base\n",
        "    nombre_variables = datos.columns[:-1]\n",
        "    for variable in nombre_variables:\n",
        "        datos_variable = datos[variable]\n",
        "        datos_unicos_variable = np.unique(datos_variable) #la función toma los datos únicos y los organiza de menor a mayor\n",
        "        if datos_variable.dtype.kind in 'iufc': #En caso de que la variable sea numérica o booleana\n",
        "            puntos_medios = [(datos_unicos_variable[i]+datos_unicos_variable[i+1])/2 for i in range(len(datos_unicos_variable)-1)] #Se toman los puntos medios\n",
        "            for punto in puntos_medios:\n",
        "                nodo_izq, nodo_der = datos[datos_variable <= punto], datos[datos_variable > punto]\n",
        "                redImpureza = funcReducImp(datos,nodo_izq,nodo_der,funcImp)\n",
        "                if redImpureza > max:\n",
        "                    max = redImpureza\n",
        "                    threshold = punto\n",
        "                    nombre_mejorVariable = variable\n",
        "                    hoja_izq = nodo_izq\n",
        "                    hoja_der = nodo_der\n",
        "        else: #En caso de que la variable sea cualitativa\n",
        "            for cualidad in datos_unicos_variable:\n",
        "                nodo_izq, nodo_der = datos[datos_variable == cualidad], datos[datos_variable != cualidad]\n",
        "                redImpureza = funcReducImp(datos,nodo_izq,nodo_der,funcImp)\n",
        "                if redImpureza > max:\n",
        "                    max = redImpureza\n",
        "                    threshold = cualidad\n",
        "                    nombre_mejorVariable = variable\n",
        "                    hoja_izq = nodo_izq\n",
        "                    hoja_der = nodo_der\n",
        "    dicMejor[\"Variable\"] = nombre_mejorVariable\n",
        "    dicMejor[\"Threshold\"] = threshold\n",
        "    dicMejor[\"valorImpureza\"] = max\n",
        "    dicMejor[\"nodoIzq\"] = hoja_izq\n",
        "    dicMejor[\"nodoDer\"] = hoja_der\n",
        "    return dicMejor\n",
        "            "
      ]
    },
    {
      "cell_type": "markdown",
      "metadata": {
        "id": "KJl3SuPZ2H4-"
      },
      "source": [
        "Ahora bien, corriendo el código se puede encontrar los datos de la primera división óptima."
      ]
    },
    {
      "cell_type": "code",
      "execution_count": 6,
      "metadata": {
        "colab": {
          "base_uri": "https://localhost:8080/"
        },
        "id": "EdKTICJS2H4_",
        "outputId": "76591622-0440-49a9-d0f3-e6546e1b00d0"
      },
      "outputs": [
        {
          "output_type": "execute_result",
          "data": {
            "text/plain": [
              "{'Threshold': 2.45,\n",
              " 'Variable': 'PetalLengthCm',\n",
              " 'nodoDer':      SepalLengthCm  SepalWidthCm  PetalLengthCm  PetalWidthCm          Species\n",
              " 50             7.0           3.2            4.7           1.4  Iris-versicolor\n",
              " 51             6.4           3.2            4.5           1.5  Iris-versicolor\n",
              " 52             6.9           3.1            4.9           1.5  Iris-versicolor\n",
              " 53             5.5           2.3            4.0           1.3  Iris-versicolor\n",
              " 54             6.5           2.8            4.6           1.5  Iris-versicolor\n",
              " ..             ...           ...            ...           ...              ...\n",
              " 145            6.7           3.0            5.2           2.3   Iris-virginica\n",
              " 146            6.3           2.5            5.0           1.9   Iris-virginica\n",
              " 147            6.5           3.0            5.2           2.0   Iris-virginica\n",
              " 148            6.2           3.4            5.4           2.3   Iris-virginica\n",
              " 149            5.9           3.0            5.1           1.8   Iris-virginica\n",
              " \n",
              " [100 rows x 5 columns],\n",
              " 'nodoIzq':     SepalLengthCm  SepalWidthCm  PetalLengthCm  PetalWidthCm      Species\n",
              " 0             5.1           3.5            1.4           0.2  Iris-setosa\n",
              " 1             4.9           3.0            1.4           0.2  Iris-setosa\n",
              " 2             4.7           3.2            1.3           0.2  Iris-setosa\n",
              " 3             4.6           3.1            1.5           0.2  Iris-setosa\n",
              " 4             5.0           3.6            1.4           0.2  Iris-setosa\n",
              " 5             5.4           3.9            1.7           0.4  Iris-setosa\n",
              " 6             4.6           3.4            1.4           0.3  Iris-setosa\n",
              " 7             5.0           3.4            1.5           0.2  Iris-setosa\n",
              " 8             4.4           2.9            1.4           0.2  Iris-setosa\n",
              " 9             4.9           3.1            1.5           0.1  Iris-setosa\n",
              " 10            5.4           3.7            1.5           0.2  Iris-setosa\n",
              " 11            4.8           3.4            1.6           0.2  Iris-setosa\n",
              " 12            4.8           3.0            1.4           0.1  Iris-setosa\n",
              " 13            4.3           3.0            1.1           0.1  Iris-setosa\n",
              " 14            5.8           4.0            1.2           0.2  Iris-setosa\n",
              " 15            5.7           4.4            1.5           0.4  Iris-setosa\n",
              " 16            5.4           3.9            1.3           0.4  Iris-setosa\n",
              " 17            5.1           3.5            1.4           0.3  Iris-setosa\n",
              " 18            5.7           3.8            1.7           0.3  Iris-setosa\n",
              " 19            5.1           3.8            1.5           0.3  Iris-setosa\n",
              " 20            5.4           3.4            1.7           0.2  Iris-setosa\n",
              " 21            5.1           3.7            1.5           0.4  Iris-setosa\n",
              " 22            4.6           3.6            1.0           0.2  Iris-setosa\n",
              " 23            5.1           3.3            1.7           0.5  Iris-setosa\n",
              " 24            4.8           3.4            1.9           0.2  Iris-setosa\n",
              " 25            5.0           3.0            1.6           0.2  Iris-setosa\n",
              " 26            5.0           3.4            1.6           0.4  Iris-setosa\n",
              " 27            5.2           3.5            1.5           0.2  Iris-setosa\n",
              " 28            5.2           3.4            1.4           0.2  Iris-setosa\n",
              " 29            4.7           3.2            1.6           0.2  Iris-setosa\n",
              " 30            4.8           3.1            1.6           0.2  Iris-setosa\n",
              " 31            5.4           3.4            1.5           0.4  Iris-setosa\n",
              " 32            5.2           4.1            1.5           0.1  Iris-setosa\n",
              " 33            5.5           4.2            1.4           0.2  Iris-setosa\n",
              " 34            4.9           3.1            1.5           0.1  Iris-setosa\n",
              " 35            5.0           3.2            1.2           0.2  Iris-setosa\n",
              " 36            5.5           3.5            1.3           0.2  Iris-setosa\n",
              " 37            4.9           3.1            1.5           0.1  Iris-setosa\n",
              " 38            4.4           3.0            1.3           0.2  Iris-setosa\n",
              " 39            5.1           3.4            1.5           0.2  Iris-setosa\n",
              " 40            5.0           3.5            1.3           0.3  Iris-setosa\n",
              " 41            4.5           2.3            1.3           0.3  Iris-setosa\n",
              " 42            4.4           3.2            1.3           0.2  Iris-setosa\n",
              " 43            5.0           3.5            1.6           0.6  Iris-setosa\n",
              " 44            5.1           3.8            1.9           0.4  Iris-setosa\n",
              " 45            4.8           3.0            1.4           0.3  Iris-setosa\n",
              " 46            5.1           3.8            1.6           0.2  Iris-setosa\n",
              " 47            4.6           3.2            1.4           0.2  Iris-setosa\n",
              " 48            5.3           3.7            1.5           0.2  Iris-setosa\n",
              " 49            5.0           3.3            1.4           0.2  Iris-setosa,\n",
              " 'valorImpureza': 0.3333333333333334}"
            ]
          },
          "metadata": {},
          "execution_count": 6
        }
      ],
      "source": [
        "mejor_variable_nodo(datos)"
      ]
    },
    {
      "cell_type": "markdown",
      "metadata": {
        "id": "168bVPNS2H5A"
      },
      "source": [
        "Ahora sigue crear una función que haga el anterior proceso para los nuevos nodos resultado de cada división, esto creará el primer árbol que serpa guardado en los Nodos."
      ]
    },
    {
      "cell_type": "code",
      "execution_count": 258,
      "metadata": {
        "id": "mWZL7BSt2H5B"
      },
      "outputs": [],
      "source": [
        "def crear_arbol(datos,k = 0,funcImp = funcImpGini): #k representa el nivel del nodo en un grafo, k=0 es la raíz (nivel 0)\n",
        "    datos_unicos = datos.drop_duplicates(subset = datos.columns[:-1])\n",
        "    max_etiquetas_unicas = max(datos.iloc[:,-1].value_counts())\n",
        "    num_datos = datos_unicos.shape[0]\n",
        "    etiqueta_nodo = datos.iloc[:,-1].mode()[0]\n",
        "    if num_datos > 1 and max_etiquetas_unicas != datos.shape[0]:\n",
        "      mejor_div_data = mejor_variable_nodo(datos, funcImp = funcImp)\n",
        "      mejorVariable = mejor_div_data[\"Variable\"]\n",
        "      mejorThreshold = mejor_div_data[\"Threshold\"]  \n",
        "      subarbol_izq = crear_arbol(mejor_div_data[\"nodoIzq\"],k+1)\n",
        "      subarbol_der = crear_arbol(mejor_div_data[\"nodoDer\"],k+1)\n",
        "      return nodo(mejor_variable=mejorVariable,\n",
        "                       threshold=mejorThreshold,\n",
        "                       hoja_izq = subarbol_izq,\n",
        "                       hoja_der = subarbol_der,\n",
        "                       etiqueta = etiqueta_nodo,\n",
        "                       impureza = mejor_div_data[\"valorImpureza\"],\n",
        "                       data = datos)\n",
        "    return nodo(etiqueta = etiqueta_nodo, impureza = funcImp(datos), estadoNodo = \"Terminal\", data = datos)"
      ]
    },
    {
      "cell_type": "markdown",
      "metadata": {
        "id": "yyWV6a_u2H5C"
      },
      "source": [
        "El primer árbol creado a partir de los datos estará almacenado en la variable primer_arbol:"
      ]
    },
    {
      "cell_type": "code",
      "execution_count": 130,
      "metadata": {
        "id": "T760yM6J2H5C"
      },
      "outputs": [],
      "source": [
        "primer_arbol = crear_arbol(datos)"
      ]
    },
    {
      "cell_type": "markdown",
      "metadata": {
        "id": "UOi9cXW72H5D"
      },
      "source": [
        "La siguiente función graficará el árbol (cualquier árbol en general)"
      ]
    },
    {
      "cell_type": "code",
      "execution_count": 245,
      "metadata": {
        "colab": {
          "base_uri": "https://localhost:8080/",
          "height": 1000
        },
        "id": "RU1SdgBo2H5E",
        "outputId": "57c1a28e-685f-4434-9ed7-9a9f25ecd6fe"
      },
      "outputs": [
        {
          "output_type": "execute_result",
          "data": {
            "text/plain": [
              "<graphviz.files.Source at 0x7f411af53e50>"
            ],
            "image/svg+xml": "<?xml version=\"1.0\" encoding=\"UTF-8\" standalone=\"no\"?>\n<!DOCTYPE svg PUBLIC \"-//W3C//DTD SVG 1.1//EN\"\n \"http://www.w3.org/Graphics/SVG/1.1/DTD/svg11.dtd\">\n<!-- Generated by graphviz version 2.40.1 (20161225.0304)\n -->\n<!-- Title: %3 Pages: 1 -->\n<svg width=\"1103pt\" height=\"746pt\"\n viewBox=\"0.00 0.00 1102.50 746.00\" xmlns=\"http://www.w3.org/2000/svg\" xmlns:xlink=\"http://www.w3.org/1999/xlink\">\n<g id=\"graph0\" class=\"graph\" transform=\"scale(1 1) rotate(0) translate(4 742)\">\n<title>%3</title>\n<polygon fill=\"#ffffff\" stroke=\"transparent\" points=\"-4,4 -4,-742 1098.5,-742 1098.5,4 -4,4\"/>\n<!-- raiz -->\n<g id=\"node1\" class=\"node\">\n<title>raiz</title>\n<polygon fill=\"none\" stroke=\"#000000\" points=\"681.5,-738 511.5,-738 511.5,-640 681.5,-640 681.5,-738\"/>\n<text text-anchor=\"middle\" x=\"596.5\" y=\"-722.8\" font-family=\"Arial\" font-size=\"14.00\" fill=\"#000000\">Clases = [50, 50, 50]</text>\n<text text-anchor=\"middle\" x=\"596.5\" y=\"-707.8\" font-family=\"Arial\" font-size=\"14.00\" fill=\"#000000\">Num. Clases = 150</text>\n<text text-anchor=\"middle\" x=\"596.5\" y=\"-692.8\" font-family=\"Arial\" font-size=\"14.00\" fill=\"#000000\">Impureza = 0.66667</text>\n<text text-anchor=\"middle\" x=\"596.5\" y=\"-677.8\" font-family=\"Arial\" font-size=\"14.00\" fill=\"#000000\">Etiqueta = Iris&#45;setosa</text>\n<text text-anchor=\"middle\" x=\"596.5\" y=\"-662.8\" font-family=\"Arial\" font-size=\"14.00\" fill=\"#000000\">&#45;&#45;&#45;&#45;&#45;</text>\n<text text-anchor=\"middle\" x=\"596.5\" y=\"-647.8\" font-family=\"Arial\" font-size=\"14.00\" fill=\"#000000\">PetalLengthCm &lt;= 2.45</text>\n</g>\n<!-- raiz&#45;izq -->\n<g id=\"node2\" class=\"node\">\n<title>raiz&#45;izq</title>\n<polygon fill=\"none\" stroke=\"#000000\" points=\"582.5,-589 430.5,-589 430.5,-521 582.5,-521 582.5,-589\"/>\n<text text-anchor=\"middle\" x=\"506.5\" y=\"-573.8\" font-family=\"Arial\" font-size=\"14.00\" fill=\"#000000\">Clases = [50]</text>\n<text text-anchor=\"middle\" x=\"506.5\" y=\"-558.8\" font-family=\"Arial\" font-size=\"14.00\" fill=\"#000000\">Num. Clases = 50</text>\n<text text-anchor=\"middle\" x=\"506.5\" y=\"-543.8\" font-family=\"Arial\" font-size=\"14.00\" fill=\"#000000\">Impureza = 0.0</text>\n<text text-anchor=\"middle\" x=\"506.5\" y=\"-528.8\" font-family=\"Arial\" font-size=\"14.00\" fill=\"#000000\">Etiqueta = Iris&#45;setosa</text>\n</g>\n<!-- raiz&#45;&gt;raiz&#45;izq -->\n<g id=\"edge15\" class=\"edge\">\n<title>raiz&#45;&gt;raiz&#45;izq</title>\n<path fill=\"none\" stroke=\"#000000\" d=\"M563.4984,-639.8642C554.1977,-626.0166 544.1594,-611.0706 535.137,-597.6373\"/>\n<polygon fill=\"#000000\" stroke=\"#000000\" points=\"537.8537,-595.4048 529.3726,-589.0548 532.0428,-599.3077 537.8537,-595.4048\"/>\n</g>\n<!-- raiz&#45;der -->\n<g id=\"node3\" class=\"node\">\n<title>raiz&#45;der</title>\n<polygon fill=\"none\" stroke=\"#000000\" points=\"772,-604 601,-604 601,-506 772,-506 772,-604\"/>\n<text text-anchor=\"middle\" x=\"686.5\" y=\"-588.8\" font-family=\"Arial\" font-size=\"14.00\" fill=\"#000000\">Clases = [50, 50]</text>\n<text text-anchor=\"middle\" x=\"686.5\" y=\"-573.8\" font-family=\"Arial\" font-size=\"14.00\" fill=\"#000000\">Num. Clases = 100</text>\n<text text-anchor=\"middle\" x=\"686.5\" y=\"-558.8\" font-family=\"Arial\" font-size=\"14.00\" fill=\"#000000\">Impureza = 0.5</text>\n<text text-anchor=\"middle\" x=\"686.5\" y=\"-543.8\" font-family=\"Arial\" font-size=\"14.00\" fill=\"#000000\">Etiqueta = Iris&#45;versicolor</text>\n<text text-anchor=\"middle\" x=\"686.5\" y=\"-528.8\" font-family=\"Arial\" font-size=\"14.00\" fill=\"#000000\">&#45;&#45;&#45;&#45;&#45;</text>\n<text text-anchor=\"middle\" x=\"686.5\" y=\"-513.8\" font-family=\"Arial\" font-size=\"14.00\" fill=\"#000000\">PetalWidthCm &lt;= 1.75</text>\n</g>\n<!-- raiz&#45;&gt;raiz&#45;der -->\n<g id=\"edge16\" class=\"edge\">\n<title>raiz&#45;&gt;raiz&#45;der</title>\n<path fill=\"none\" stroke=\"#000000\" d=\"M629.5016,-639.8642C635.4324,-631.034 641.6632,-621.7571 647.7392,-612.7106\"/>\n<polygon fill=\"#000000\" stroke=\"#000000\" points=\"650.8322,-614.3827 653.5024,-604.1298 645.0213,-610.4798 650.8322,-614.3827\"/>\n</g>\n<!-- raiz&#45;der&#45;izq -->\n<g id=\"node4\" class=\"node\">\n<title>raiz&#45;der&#45;izq</title>\n<polygon fill=\"none\" stroke=\"#000000\" points=\"631,-470 460,-470 460,-372 631,-372 631,-470\"/>\n<text text-anchor=\"middle\" x=\"545.5\" y=\"-454.8\" font-family=\"Arial\" font-size=\"14.00\" fill=\"#000000\">Clases = [49, 5]</text>\n<text text-anchor=\"middle\" x=\"545.5\" y=\"-439.8\" font-family=\"Arial\" font-size=\"14.00\" fill=\"#000000\">Num. Clases = 54</text>\n<text text-anchor=\"middle\" x=\"545.5\" y=\"-424.8\" font-family=\"Arial\" font-size=\"14.00\" fill=\"#000000\">Impureza = 0.16804</text>\n<text text-anchor=\"middle\" x=\"545.5\" y=\"-409.8\" font-family=\"Arial\" font-size=\"14.00\" fill=\"#000000\">Etiqueta = Iris&#45;versicolor</text>\n<text text-anchor=\"middle\" x=\"545.5\" y=\"-394.8\" font-family=\"Arial\" font-size=\"14.00\" fill=\"#000000\">&#45;&#45;&#45;&#45;&#45;</text>\n<text text-anchor=\"middle\" x=\"545.5\" y=\"-379.8\" font-family=\"Arial\" font-size=\"14.00\" fill=\"#000000\">PetalLengthCm &lt;= 4.95</text>\n</g>\n<!-- raiz&#45;der&#45;&gt;raiz&#45;der&#45;izq -->\n<g id=\"edge13\" class=\"edge\">\n<title>raiz&#45;der&#45;&gt;raiz&#45;der&#45;izq</title>\n<path fill=\"none\" stroke=\"#000000\" d=\"M634.7974,-505.8642C624.9311,-496.4878 614.535,-486.6077 604.4618,-477.0346\"/>\n<polygon fill=\"#000000\" stroke=\"#000000\" points=\"606.8562,-474.4816 597.1963,-470.1298 602.0339,-479.5558 606.8562,-474.4816\"/>\n</g>\n<!-- raiz&#45;der&#45;der -->\n<g id=\"node13\" class=\"node\">\n<title>raiz&#45;der&#45;der</title>\n<polygon fill=\"none\" stroke=\"#000000\" points=\"912.5,-470 742.5,-470 742.5,-372 912.5,-372 912.5,-470\"/>\n<text text-anchor=\"middle\" x=\"827.5\" y=\"-454.8\" font-family=\"Arial\" font-size=\"14.00\" fill=\"#000000\">Clases = [1, 45]</text>\n<text text-anchor=\"middle\" x=\"827.5\" y=\"-439.8\" font-family=\"Arial\" font-size=\"14.00\" fill=\"#000000\">Num. Clases = 46</text>\n<text text-anchor=\"middle\" x=\"827.5\" y=\"-424.8\" font-family=\"Arial\" font-size=\"14.00\" fill=\"#000000\">Impureza = 0.04253</text>\n<text text-anchor=\"middle\" x=\"827.5\" y=\"-409.8\" font-family=\"Arial\" font-size=\"14.00\" fill=\"#000000\">Etiqueta = Iris&#45;virginica</text>\n<text text-anchor=\"middle\" x=\"827.5\" y=\"-394.8\" font-family=\"Arial\" font-size=\"14.00\" fill=\"#000000\">&#45;&#45;&#45;&#45;&#45;</text>\n<text text-anchor=\"middle\" x=\"827.5\" y=\"-379.8\" font-family=\"Arial\" font-size=\"14.00\" fill=\"#000000\">PetalLengthCm &lt;= 4.85</text>\n</g>\n<!-- raiz&#45;der&#45;&gt;raiz&#45;der&#45;der -->\n<g id=\"edge14\" class=\"edge\">\n<title>raiz&#45;der&#45;&gt;raiz&#45;der&#45;der</title>\n<path fill=\"none\" stroke=\"#000000\" d=\"M738.2026,-505.8642C748.0689,-496.4878 758.465,-486.6077 768.5382,-477.0346\"/>\n<polygon fill=\"#000000\" stroke=\"#000000\" points=\"770.9661,-479.5558 775.8037,-470.1298 766.1438,-474.4816 770.9661,-479.5558\"/>\n</g>\n<!-- raiz&#45;der&#45;izq&#45;izq -->\n<g id=\"node5\" class=\"node\">\n<title>raiz&#45;der&#45;izq&#45;izq</title>\n<polygon fill=\"none\" stroke=\"#000000\" points=\"356,-336 185,-336 185,-238 356,-238 356,-336\"/>\n<text text-anchor=\"middle\" x=\"270.5\" y=\"-320.8\" font-family=\"Arial\" font-size=\"14.00\" fill=\"#000000\">Clases = [47, 1]</text>\n<text text-anchor=\"middle\" x=\"270.5\" y=\"-305.8\" font-family=\"Arial\" font-size=\"14.00\" fill=\"#000000\">Num. Clases = 48</text>\n<text text-anchor=\"middle\" x=\"270.5\" y=\"-290.8\" font-family=\"Arial\" font-size=\"14.00\" fill=\"#000000\">Impureza = 0.0408</text>\n<text text-anchor=\"middle\" x=\"270.5\" y=\"-275.8\" font-family=\"Arial\" font-size=\"14.00\" fill=\"#000000\">Etiqueta = Iris&#45;versicolor</text>\n<text text-anchor=\"middle\" x=\"270.5\" y=\"-260.8\" font-family=\"Arial\" font-size=\"14.00\" fill=\"#000000\">&#45;&#45;&#45;&#45;&#45;</text>\n<text text-anchor=\"middle\" x=\"270.5\" y=\"-245.8\" font-family=\"Arial\" font-size=\"14.00\" fill=\"#000000\">PetalWidthCm &lt;= 1.65</text>\n</g>\n<!-- raiz&#45;der&#45;izq&#45;&gt;raiz&#45;der&#45;izq&#45;izq -->\n<g id=\"edge7\" class=\"edge\">\n<title>raiz&#45;der&#45;izq&#45;&gt;raiz&#45;der&#45;izq&#45;izq</title>\n<path fill=\"none\" stroke=\"#000000\" d=\"M459.9957,-379.3361C430.0034,-364.7216 396.1403,-348.2211 365.4226,-333.2532\"/>\n<polygon fill=\"#000000\" stroke=\"#000000\" points=\"366.9474,-330.1028 356.4247,-328.8687 363.8811,-336.3955 366.9474,-330.1028\"/>\n</g>\n<!-- raiz&#45;der&#45;izq&#45;der -->\n<g id=\"node8\" class=\"node\">\n<title>raiz&#45;der&#45;izq&#45;der</title>\n<polygon fill=\"none\" stroke=\"#000000\" points=\"626.5,-336 464.5,-336 464.5,-238 626.5,-238 626.5,-336\"/>\n<text text-anchor=\"middle\" x=\"545.5\" y=\"-320.8\" font-family=\"Arial\" font-size=\"14.00\" fill=\"#000000\">Clases = [2, 4]</text>\n<text text-anchor=\"middle\" x=\"545.5\" y=\"-305.8\" font-family=\"Arial\" font-size=\"14.00\" fill=\"#000000\">Num. Clases = 6</text>\n<text text-anchor=\"middle\" x=\"545.5\" y=\"-290.8\" font-family=\"Arial\" font-size=\"14.00\" fill=\"#000000\">Impureza = 0.44444</text>\n<text text-anchor=\"middle\" x=\"545.5\" y=\"-275.8\" font-family=\"Arial\" font-size=\"14.00\" fill=\"#000000\">Etiqueta = Iris&#45;virginica</text>\n<text text-anchor=\"middle\" x=\"545.5\" y=\"-260.8\" font-family=\"Arial\" font-size=\"14.00\" fill=\"#000000\">&#45;&#45;&#45;&#45;&#45;</text>\n<text text-anchor=\"middle\" x=\"545.5\" y=\"-245.8\" font-family=\"Arial\" font-size=\"14.00\" fill=\"#000000\">PetalWidthCm &lt;= 1.55</text>\n</g>\n<!-- raiz&#45;der&#45;izq&#45;&gt;raiz&#45;der&#45;izq&#45;der -->\n<g id=\"edge8\" class=\"edge\">\n<title>raiz&#45;der&#45;izq&#45;&gt;raiz&#45;der&#45;izq&#45;der</title>\n<path fill=\"none\" stroke=\"#000000\" d=\"M545.5,-371.8642C545.5,-363.5802 545.5,-354.903 545.5,-346.3918\"/>\n<polygon fill=\"#000000\" stroke=\"#000000\" points=\"549.0001,-346.1298 545.5,-336.1298 542.0001,-346.1299 549.0001,-346.1298\"/>\n</g>\n<!-- raiz&#45;der&#45;izq&#45;izq&#45;izq -->\n<g id=\"node6\" class=\"node\">\n<title>raiz&#45;der&#45;izq&#45;izq&#45;izq</title>\n<polygon fill=\"none\" stroke=\"#000000\" points=\"171,-187 0,-187 0,-119 171,-119 171,-187\"/>\n<text text-anchor=\"middle\" x=\"85.5\" y=\"-171.8\" font-family=\"Arial\" font-size=\"14.00\" fill=\"#000000\">Clases = [47]</text>\n<text text-anchor=\"middle\" x=\"85.5\" y=\"-156.8\" font-family=\"Arial\" font-size=\"14.00\" fill=\"#000000\">Num. Clases = 47</text>\n<text text-anchor=\"middle\" x=\"85.5\" y=\"-141.8\" font-family=\"Arial\" font-size=\"14.00\" fill=\"#000000\">Impureza = 0.0</text>\n<text text-anchor=\"middle\" x=\"85.5\" y=\"-126.8\" font-family=\"Arial\" font-size=\"14.00\" fill=\"#000000\">Etiqueta = Iris&#45;versicolor</text>\n</g>\n<!-- raiz&#45;der&#45;izq&#45;izq&#45;&gt;raiz&#45;der&#45;izq&#45;izq&#45;izq -->\n<g id=\"edge1\" class=\"edge\">\n<title>raiz&#45;der&#45;izq&#45;izq&#45;&gt;raiz&#45;der&#45;izq&#45;izq&#45;izq</title>\n<path fill=\"none\" stroke=\"#000000\" d=\"M202.6633,-237.8642C182.2708,-223.0934 160.1529,-207.0729 140.6846,-192.9715\"/>\n<polygon fill=\"#000000\" stroke=\"#000000\" points=\"142.6679,-190.0864 132.516,-187.0548 138.5616,-195.7555 142.6679,-190.0864\"/>\n</g>\n<!-- raiz&#45;der&#45;izq&#45;izq&#45;der -->\n<g id=\"node7\" class=\"node\">\n<title>raiz&#45;der&#45;izq&#45;izq&#45;der</title>\n<polygon fill=\"none\" stroke=\"#000000\" points=\"351.5,-187 189.5,-187 189.5,-119 351.5,-119 351.5,-187\"/>\n<text text-anchor=\"middle\" x=\"270.5\" y=\"-171.8\" font-family=\"Arial\" font-size=\"14.00\" fill=\"#000000\">Clases = [1]</text>\n<text text-anchor=\"middle\" x=\"270.5\" y=\"-156.8\" font-family=\"Arial\" font-size=\"14.00\" fill=\"#000000\">Num. Clases = 1</text>\n<text text-anchor=\"middle\" x=\"270.5\" y=\"-141.8\" font-family=\"Arial\" font-size=\"14.00\" fill=\"#000000\">Impureza = 0.0</text>\n<text text-anchor=\"middle\" x=\"270.5\" y=\"-126.8\" font-family=\"Arial\" font-size=\"14.00\" fill=\"#000000\">Etiqueta = Iris&#45;virginica</text>\n</g>\n<!-- raiz&#45;der&#45;izq&#45;izq&#45;&gt;raiz&#45;der&#45;izq&#45;izq&#45;der -->\n<g id=\"edge2\" class=\"edge\">\n<title>raiz&#45;der&#45;izq&#45;izq&#45;&gt;raiz&#45;der&#45;izq&#45;izq&#45;der</title>\n<path fill=\"none\" stroke=\"#000000\" d=\"M270.5,-237.8642C270.5,-224.5441 270.5,-210.2078 270.5,-197.179\"/>\n<polygon fill=\"#000000\" stroke=\"#000000\" points=\"274.0001,-197.0548 270.5,-187.0548 267.0001,-197.0549 274.0001,-197.0548\"/>\n</g>\n<!-- raiz&#45;der&#45;izq&#45;der&#45;izq -->\n<g id=\"node9\" class=\"node\">\n<title>raiz&#45;der&#45;izq&#45;der&#45;izq</title>\n<polygon fill=\"none\" stroke=\"#000000\" points=\"531.5,-187 369.5,-187 369.5,-119 531.5,-119 531.5,-187\"/>\n<text text-anchor=\"middle\" x=\"450.5\" y=\"-171.8\" font-family=\"Arial\" font-size=\"14.00\" fill=\"#000000\">Clases = [3]</text>\n<text text-anchor=\"middle\" x=\"450.5\" y=\"-156.8\" font-family=\"Arial\" font-size=\"14.00\" fill=\"#000000\">Num. Clases = 3</text>\n<text text-anchor=\"middle\" x=\"450.5\" y=\"-141.8\" font-family=\"Arial\" font-size=\"14.00\" fill=\"#000000\">Impureza = 0.0</text>\n<text text-anchor=\"middle\" x=\"450.5\" y=\"-126.8\" font-family=\"Arial\" font-size=\"14.00\" fill=\"#000000\">Etiqueta = Iris&#45;virginica</text>\n</g>\n<!-- raiz&#45;der&#45;izq&#45;der&#45;&gt;raiz&#45;der&#45;izq&#45;der&#45;izq -->\n<g id=\"edge5\" class=\"edge\">\n<title>raiz&#45;der&#45;izq&#45;der&#45;&gt;raiz&#45;der&#45;izq&#45;der&#45;izq</title>\n<path fill=\"none\" stroke=\"#000000\" d=\"M510.6649,-237.8642C500.7541,-223.8847 490.0497,-208.7858 480.4561,-195.2539\"/>\n<polygon fill=\"#000000\" stroke=\"#000000\" points=\"483.2822,-193.1884 474.6433,-187.0548 477.5717,-197.2369 483.2822,-193.1884\"/>\n</g>\n<!-- raiz&#45;der&#45;izq&#45;der&#45;der -->\n<g id=\"node10\" class=\"node\">\n<title>raiz&#45;der&#45;izq&#45;der&#45;der</title>\n<polygon fill=\"none\" stroke=\"#000000\" points=\"723.5,-202 549.5,-202 549.5,-104 723.5,-104 723.5,-202\"/>\n<text text-anchor=\"middle\" x=\"636.5\" y=\"-186.8\" font-family=\"Arial\" font-size=\"14.00\" fill=\"#000000\">Clases = [2, 1]</text>\n<text text-anchor=\"middle\" x=\"636.5\" y=\"-171.8\" font-family=\"Arial\" font-size=\"14.00\" fill=\"#000000\">Num. Clases = 3</text>\n<text text-anchor=\"middle\" x=\"636.5\" y=\"-156.8\" font-family=\"Arial\" font-size=\"14.00\" fill=\"#000000\">Impureza = 0.44444</text>\n<text text-anchor=\"middle\" x=\"636.5\" y=\"-141.8\" font-family=\"Arial\" font-size=\"14.00\" fill=\"#000000\">Etiqueta = Iris&#45;versicolor</text>\n<text text-anchor=\"middle\" x=\"636.5\" y=\"-126.8\" font-family=\"Arial\" font-size=\"14.00\" fill=\"#000000\">&#45;&#45;&#45;&#45;&#45;</text>\n<text text-anchor=\"middle\" x=\"636.5\" y=\"-111.8\" font-family=\"Arial\" font-size=\"14.00\" fill=\"#000000\">SepalLengthCm &lt;= 6.95</text>\n</g>\n<!-- raiz&#45;der&#45;izq&#45;der&#45;&gt;raiz&#45;der&#45;izq&#45;der&#45;der -->\n<g id=\"edge6\" class=\"edge\">\n<title>raiz&#45;der&#45;izq&#45;der&#45;&gt;raiz&#45;der&#45;izq&#45;der&#45;der</title>\n<path fill=\"none\" stroke=\"#000000\" d=\"M578.8683,-237.8642C584.9268,-228.9429 591.2949,-219.5657 597.4984,-210.4309\"/>\n<polygon fill=\"#000000\" stroke=\"#000000\" points=\"600.4131,-212.3689 603.1357,-202.1298 594.6222,-208.4362 600.4131,-212.3689\"/>\n</g>\n<!-- raiz&#45;der&#45;izq&#45;der&#45;der&#45;izq -->\n<g id=\"node11\" class=\"node\">\n<title>raiz&#45;der&#45;izq&#45;der&#45;der&#45;izq</title>\n<polygon fill=\"none\" stroke=\"#000000\" points=\"629,-68 458,-68 458,0 629,0 629,-68\"/>\n<text text-anchor=\"middle\" x=\"543.5\" y=\"-52.8\" font-family=\"Arial\" font-size=\"14.00\" fill=\"#000000\">Clases = [2]</text>\n<text text-anchor=\"middle\" x=\"543.5\" y=\"-37.8\" font-family=\"Arial\" font-size=\"14.00\" fill=\"#000000\">Num. Clases = 2</text>\n<text text-anchor=\"middle\" x=\"543.5\" y=\"-22.8\" font-family=\"Arial\" font-size=\"14.00\" fill=\"#000000\">Impureza = 0.0</text>\n<text text-anchor=\"middle\" x=\"543.5\" y=\"-7.8\" font-family=\"Arial\" font-size=\"14.00\" fill=\"#000000\">Etiqueta = Iris&#45;versicolor</text>\n</g>\n<!-- raiz&#45;der&#45;izq&#45;der&#45;der&#45;&gt;raiz&#45;der&#45;izq&#45;der&#45;der&#45;izq -->\n<g id=\"edge3\" class=\"edge\">\n<title>raiz&#45;der&#45;izq&#45;der&#45;der&#45;&gt;raiz&#45;der&#45;izq&#45;der&#45;der&#45;izq</title>\n<path fill=\"none\" stroke=\"#000000\" d=\"M598.1364,-103.9111C590.9345,-94.6958 583.4638,-85.1365 576.4447,-76.1551\"/>\n<polygon fill=\"#000000\" stroke=\"#000000\" points=\"579.0617,-73.8197 570.1462,-68.0956 573.5462,-78.1301 579.0617,-73.8197\"/>\n</g>\n<!-- raiz&#45;der&#45;izq&#45;der&#45;der&#45;der -->\n<g id=\"node12\" class=\"node\">\n<title>raiz&#45;der&#45;izq&#45;der&#45;der&#45;der</title>\n<polygon fill=\"none\" stroke=\"#000000\" points=\"809.5,-68 647.5,-68 647.5,0 809.5,0 809.5,-68\"/>\n<text text-anchor=\"middle\" x=\"728.5\" y=\"-52.8\" font-family=\"Arial\" font-size=\"14.00\" fill=\"#000000\">Clases = [1]</text>\n<text text-anchor=\"middle\" x=\"728.5\" y=\"-37.8\" font-family=\"Arial\" font-size=\"14.00\" fill=\"#000000\">Num. Clases = 1</text>\n<text text-anchor=\"middle\" x=\"728.5\" y=\"-22.8\" font-family=\"Arial\" font-size=\"14.00\" fill=\"#000000\">Impureza = 0.0</text>\n<text text-anchor=\"middle\" x=\"728.5\" y=\"-7.8\" font-family=\"Arial\" font-size=\"14.00\" fill=\"#000000\">Etiqueta = Iris&#45;virginica</text>\n</g>\n<!-- raiz&#45;der&#45;izq&#45;der&#45;der&#45;&gt;raiz&#45;der&#45;izq&#45;der&#45;der&#45;der -->\n<g id=\"edge4\" class=\"edge\">\n<title>raiz&#45;der&#45;izq&#45;der&#45;der&#45;&gt;raiz&#45;der&#45;izq&#45;der&#45;der&#45;der</title>\n<path fill=\"none\" stroke=\"#000000\" d=\"M674.4511,-103.9111C681.5755,-94.6958 688.9659,-85.1365 695.9095,-76.1551\"/>\n<polygon fill=\"#000000\" stroke=\"#000000\" points=\"698.7929,-78.1478 702.1403,-68.0956 693.2549,-73.8663 698.7929,-78.1478\"/>\n</g>\n<!-- raiz&#45;der&#45;der&#45;izq -->\n<g id=\"node14\" class=\"node\">\n<title>raiz&#45;der&#45;der&#45;izq</title>\n<polygon fill=\"none\" stroke=\"#000000\" points=\"914.5,-336 740.5,-336 740.5,-238 914.5,-238 914.5,-336\"/>\n<text text-anchor=\"middle\" x=\"827.5\" y=\"-320.8\" font-family=\"Arial\" font-size=\"14.00\" fill=\"#000000\">Clases = [1, 2]</text>\n<text text-anchor=\"middle\" x=\"827.5\" y=\"-305.8\" font-family=\"Arial\" font-size=\"14.00\" fill=\"#000000\">Num. Clases = 3</text>\n<text text-anchor=\"middle\" x=\"827.5\" y=\"-290.8\" font-family=\"Arial\" font-size=\"14.00\" fill=\"#000000\">Impureza = 0.44444</text>\n<text text-anchor=\"middle\" x=\"827.5\" y=\"-275.8\" font-family=\"Arial\" font-size=\"14.00\" fill=\"#000000\">Etiqueta = Iris&#45;virginica</text>\n<text text-anchor=\"middle\" x=\"827.5\" y=\"-260.8\" font-family=\"Arial\" font-size=\"14.00\" fill=\"#000000\">&#45;&#45;&#45;&#45;&#45;</text>\n<text text-anchor=\"middle\" x=\"827.5\" y=\"-245.8\" font-family=\"Arial\" font-size=\"14.00\" fill=\"#000000\">SepalLengthCm &lt;= 5.95</text>\n</g>\n<!-- raiz&#45;der&#45;der&#45;&gt;raiz&#45;der&#45;der&#45;izq -->\n<g id=\"edge11\" class=\"edge\">\n<title>raiz&#45;der&#45;der&#45;&gt;raiz&#45;der&#45;der&#45;izq</title>\n<path fill=\"none\" stroke=\"#000000\" d=\"M827.5,-371.8642C827.5,-363.5802 827.5,-354.903 827.5,-346.3918\"/>\n<polygon fill=\"#000000\" stroke=\"#000000\" points=\"831.0001,-346.1298 827.5,-336.1298 824.0001,-346.1299 831.0001,-346.1298\"/>\n</g>\n<!-- raiz&#45;der&#45;der&#45;der -->\n<g id=\"node17\" class=\"node\">\n<title>raiz&#45;der&#45;der&#45;der</title>\n<polygon fill=\"none\" stroke=\"#000000\" points=\"1094.5,-321 932.5,-321 932.5,-253 1094.5,-253 1094.5,-321\"/>\n<text text-anchor=\"middle\" x=\"1013.5\" y=\"-305.8\" font-family=\"Arial\" font-size=\"14.00\" fill=\"#000000\">Clases = [43]</text>\n<text text-anchor=\"middle\" x=\"1013.5\" y=\"-290.8\" font-family=\"Arial\" font-size=\"14.00\" fill=\"#000000\">Num. Clases = 43</text>\n<text text-anchor=\"middle\" x=\"1013.5\" y=\"-275.8\" font-family=\"Arial\" font-size=\"14.00\" fill=\"#000000\">Impureza = 0.0</text>\n<text text-anchor=\"middle\" x=\"1013.5\" y=\"-260.8\" font-family=\"Arial\" font-size=\"14.00\" fill=\"#000000\">Etiqueta = Iris&#45;virginica</text>\n</g>\n<!-- raiz&#45;der&#45;der&#45;&gt;raiz&#45;der&#45;der&#45;der -->\n<g id=\"edge12\" class=\"edge\">\n<title>raiz&#45;der&#45;der&#45;&gt;raiz&#45;der&#45;der&#45;der</title>\n<path fill=\"none\" stroke=\"#000000\" d=\"M895.7034,-371.8642C916.2062,-357.0934 938.4435,-341.0729 958.0171,-326.9715\"/>\n<polygon fill=\"#000000\" stroke=\"#000000\" points=\"960.1621,-329.74 966.2299,-321.0548 956.0703,-324.0604 960.1621,-329.74\"/>\n</g>\n<!-- raiz&#45;der&#45;der&#45;izq&#45;izq -->\n<g id=\"node15\" class=\"node\">\n<title>raiz&#45;der&#45;der&#45;izq&#45;izq</title>\n<polygon fill=\"none\" stroke=\"#000000\" points=\"913,-187 742,-187 742,-119 913,-119 913,-187\"/>\n<text text-anchor=\"middle\" x=\"827.5\" y=\"-171.8\" font-family=\"Arial\" font-size=\"14.00\" fill=\"#000000\">Clases = [1]</text>\n<text text-anchor=\"middle\" x=\"827.5\" y=\"-156.8\" font-family=\"Arial\" font-size=\"14.00\" fill=\"#000000\">Num. Clases = 1</text>\n<text text-anchor=\"middle\" x=\"827.5\" y=\"-141.8\" font-family=\"Arial\" font-size=\"14.00\" fill=\"#000000\">Impureza = 0.0</text>\n<text text-anchor=\"middle\" x=\"827.5\" y=\"-126.8\" font-family=\"Arial\" font-size=\"14.00\" fill=\"#000000\">Etiqueta = Iris&#45;versicolor</text>\n</g>\n<!-- raiz&#45;der&#45;der&#45;izq&#45;&gt;raiz&#45;der&#45;der&#45;izq&#45;izq -->\n<g id=\"edge9\" class=\"edge\">\n<title>raiz&#45;der&#45;der&#45;izq&#45;&gt;raiz&#45;der&#45;der&#45;izq&#45;izq</title>\n<path fill=\"none\" stroke=\"#000000\" d=\"M827.5,-237.8642C827.5,-224.5441 827.5,-210.2078 827.5,-197.179\"/>\n<polygon fill=\"#000000\" stroke=\"#000000\" points=\"831.0001,-197.0548 827.5,-187.0548 824.0001,-197.0549 831.0001,-197.0548\"/>\n</g>\n<!-- raiz&#45;der&#45;der&#45;izq&#45;der -->\n<g id=\"node16\" class=\"node\">\n<title>raiz&#45;der&#45;der&#45;izq&#45;der</title>\n<polygon fill=\"none\" stroke=\"#000000\" points=\"1093.5,-187 931.5,-187 931.5,-119 1093.5,-119 1093.5,-187\"/>\n<text text-anchor=\"middle\" x=\"1012.5\" y=\"-171.8\" font-family=\"Arial\" font-size=\"14.00\" fill=\"#000000\">Clases = [2]</text>\n<text text-anchor=\"middle\" x=\"1012.5\" y=\"-156.8\" font-family=\"Arial\" font-size=\"14.00\" fill=\"#000000\">Num. Clases = 2</text>\n<text text-anchor=\"middle\" x=\"1012.5\" y=\"-141.8\" font-family=\"Arial\" font-size=\"14.00\" fill=\"#000000\">Impureza = 0.0</text>\n<text text-anchor=\"middle\" x=\"1012.5\" y=\"-126.8\" font-family=\"Arial\" font-size=\"14.00\" fill=\"#000000\">Etiqueta = Iris&#45;virginica</text>\n</g>\n<!-- raiz&#45;der&#45;der&#45;izq&#45;&gt;raiz&#45;der&#45;der&#45;izq&#45;der -->\n<g id=\"edge10\" class=\"edge\">\n<title>raiz&#45;der&#45;der&#45;izq&#45;&gt;raiz&#45;der&#45;der&#45;izq&#45;der</title>\n<path fill=\"none\" stroke=\"#000000\" d=\"M895.3367,-237.8642C915.7292,-223.0934 937.8471,-207.0729 957.3154,-192.9715\"/>\n<polygon fill=\"#000000\" stroke=\"#000000\" points=\"959.4384,-195.7555 965.484,-187.0548 955.3321,-190.0864 959.4384,-195.7555\"/>\n</g>\n</g>\n</svg>\n"
          },
          "metadata": {},
          "execution_count": 245
        }
      ],
      "source": [
        "def graficarArbol(arbol,funcImp = funcImpGini):\n",
        "    tree = graphviz.Digraph(comment='Arbol de Decisión')\n",
        "    def atributosAtexto(arbol,terminal = 0):\n",
        "      lista = [str(\"Clases = \") +str(arbol.data.iloc[:,-1].value_counts(sort=False).to_list()),\n",
        "               str(\"Num. Clases = \") +str(sum(arbol.data.iloc[:,-1].value_counts(sort=False).to_list())),\n",
        "               str(\"Impureza = \")+str(np.round(funcImp(arbol.data),5)),\n",
        "               str(\"Etiqueta = \")+str(arbol.etiqueta),\n",
        "               str(\"-----\"),\n",
        "               str(arbol.mejor_variable)+str(\" <= \")+str(arbol.threshold)]\n",
        "      if terminal == 1:\n",
        "        lista2 = lista[:-2]\n",
        "        return '\\n'.join(lista2)\n",
        "      else:\n",
        "        return '\\n'.join(lista)\n",
        "    def marcar_hojas(nodo,eti = \"raiz\"):\n",
        "      strizq = eti + \"-\" + \"izq\"\n",
        "      strder = eti + \"-\" + \"der\"\n",
        "      if nodo.estadoNodo == None:\n",
        "        tree.node(eti, atributosAtexto(nodo),shape='box',fontname=\"Arial\")\n",
        "        marcar_hojas(nodo.hoja_izq,strizq)\n",
        "        marcar_hojas(nodo.hoja_der,strder)\n",
        "        tree.edge(eti, strizq)\n",
        "        tree.edge(eti, strder)\n",
        "\n",
        "      elif nodo.estadoNodo != \"Terminal\":\n",
        "        tree.node(eti, atributosAtexto(nodo),shape='box',fontname=\"Arial\")\n",
        "        marcar_hojas(nodo.hoja_izq,eti)\n",
        "        marcar_hojas(nodo.hoja_der,eti)\n",
        "      else:\n",
        "        tree.node(eti, atributosAtexto(nodo, terminal = 1),shape='box',fontname=\"Arial\")\n",
        "    marcar_hojas(arbol)\n",
        "    return graphviz.Source(tree)\n",
        "\n",
        "graficarArbol(primer_arbol)"
      ]
    },
    {
      "cell_type": "markdown",
      "source": [
        "Se procederá a podar el árbol. No obstante, se deben crear las funciones del costo de error de clasificación. Entonces"
      ],
      "metadata": {
        "id": "sHR0_gcmdHRp"
      }
    },
    {
      "cell_type": "code",
      "source": [
        "def costo_claserror_nodo(nodo):\n",
        "    datos = nodo.data\n",
        "    prop = [1-Fraction(i,datos.shape[0]) for i in datos.iloc[:,-1].value_counts()]\n",
        "    return min(prop)\n",
        "\n",
        "def R_costo_claserror_nodo(nodo, alpha = 0):\n",
        "  r_t = (costo_claserror_nodo(nodo))*(Fraction(nodo.data.shape[0],datos.shape[0]))\n",
        "  return r_t + alpha\n",
        "\n",
        "def R_costo_claserror_arbol(arbol, alpha = 0):\n",
        "  contador = 0\n",
        "  def _costo_arbol(arbol):\n",
        "    nonlocal contador\n",
        "    el_arbol = arbol\n",
        "    if el_arbol.estadoNodo != \"Terminal\":\n",
        "      _costo_arbol(el_arbol.hoja_izq)\n",
        "      _costo_arbol(el_arbol.hoja_der)\n",
        "    else:\n",
        "      contador += R_costo_claserror_nodo(el_arbol)\n",
        "    return contador\n",
        "  return _costo_arbol(arbol) + alpha*num_hojas(arbol)\n",
        "\n",
        "def num_hojas(arbol,k=0):\n",
        "  k = 0\n",
        "  def _contador(arbol):\n",
        "    nonlocal k\n",
        "    if arbol is None:\n",
        "      return None\n",
        "    _contador(arbol.hoja_izq)\n",
        "    _contador(arbol.hoja_der)\n",
        "    if arbol.estadoNodo == \"Terminal\":\n",
        "      k += 1\n",
        "  _contador(arbol)\n",
        "  return k\n"
      ],
      "metadata": {
        "id": "SFY8MWZTdOFx"
      },
      "execution_count": 194,
      "outputs": []
    },
    {
      "cell_type": "markdown",
      "source": [
        "Con lo anterior se puede formar el árbol $T(0)$ el cual consiste en eliminar los nodos $t$ tal que sus sub-nodos $t_L,t_R$ cumplan $$R(t)=R(t_L)+R(t_R)$$\n",
        "Dando como resultado el siguiente código, no obstante este código puede recibir un $\\alpha$ cualquiera, por defecto es $\\alpha = 0$"
      ],
      "metadata": {
        "id": "Y13oUOYlw2Nr"
      }
    },
    {
      "cell_type": "code",
      "source": [
        "def podado_alpha(alpha = 0):\n",
        "    _arbol = primer_arbol\n",
        "    def _podado(arbol):\n",
        "      nonlocal alpha\n",
        "      switch = False\n",
        "      lista_marcados = []\n",
        "      def marcar_nodos(arbol):\n",
        "        nonlocal alpha, lista_marcados, switch\n",
        "        if arbol.estadoNodo == \"Terminal\":\n",
        "          pass\n",
        "        else:\n",
        "          marcar_nodos(arbol.hoja_izq)\n",
        "          marcar_nodos(arbol.hoja_der)\n",
        "          R_arbol = R_costo_claserror_arbol(arbol,alpha)\n",
        "          R_nodo = R_costo_claserror_nodo(arbol,alpha)\n",
        "          if R_arbol >= R_nodo:\n",
        "            switch = True\n",
        "            lista_marcados.append((arbol.mejor_variable,arbol.threshold))\n",
        "      marcar_nodos(arbol)\n",
        "      def _cortar(arbol):\n",
        "        nonlocal lista_marcados\n",
        "        if arbol.estadoNodo == \"Terminal\":\n",
        "          return nodo(mejor_variable = arbol.mejor_variable,\n",
        "                    threshold = arbol.threshold,\n",
        "                    hoja_izq = arbol.hoja_izq,\n",
        "                    hoja_der = arbol.hoja_der,\n",
        "                    etiqueta = arbol.etiqueta,\n",
        "                    impureza = arbol.impureza,\n",
        "                    estadoNodo = arbol.estadoNodo,\n",
        "                    data = arbol.data)\n",
        "        else:\n",
        "          if (arbol.mejor_variable,arbol.threshold) in lista_marcados:\n",
        "            return nodo(mejor_variable = arbol.mejor_variable,\n",
        "                    threshold = arbol.threshold,\n",
        "                    hoja_izq = None,\n",
        "                    hoja_der = None,\n",
        "                    etiqueta = arbol.etiqueta,\n",
        "                    impureza = arbol.impureza,\n",
        "                    estadoNodo = \"Terminal\",\n",
        "                    data = arbol.data)\n",
        "          else:\n",
        "            h_i = _cortar(arbol.hoja_izq)\n",
        "            h_d = _cortar(arbol.hoja_der)\n",
        "            return nodo(mejor_variable = arbol.mejor_variable,\n",
        "                    threshold = arbol.threshold,\n",
        "                    hoja_izq = h_i,\n",
        "                    hoja_der = h_d,\n",
        "                    etiqueta = arbol.etiqueta,\n",
        "                    impureza = arbol.impureza,\n",
        "                    estadoNodo = arbol.estadoNodo,\n",
        "                    data = arbol.data)\n",
        "      if switch is True:\n",
        "        return _podado(_cortar(arbol))      \n",
        "      else:        \n",
        "        return _cortar(arbol)\n",
        "    return _podado(_arbol)"
      ],
      "metadata": {
        "id": "WPzSB20wvjKw"
      },
      "execution_count": 232,
      "outputs": []
    },
    {
      "cell_type": "markdown",
      "source": [
        "Basados en el anterior código, la siguiente función nos da como resultado los alfas asociados a los nodos debiles y además, los árboles formados con estos:"
      ],
      "metadata": {
        "id": "iIkxdzWp0LEZ"
      }
    },
    {
      "cell_type": "code",
      "source": [
        "def podado_minimos():\n",
        "  arbol = podado_alpha()\n",
        "  listaMin,listaArboles = [0],[arbol]\n",
        "  g1 = lambda nodo : Fraction(R_costo_claserror_nodo(nodo) - R_costo_claserror_arbol(nodo) , (num_hojas(nodo) - 1))\n",
        "  def _podado(arbol):\n",
        "    nonlocal listaMin,listaArboles\n",
        "    min = float(\"Inf\")\n",
        "    def buscar_valor_min(arbol):\n",
        "      nonlocal min\n",
        "      if arbol.estadoNodo == \"Terminal\":\n",
        "        pass\n",
        "      else:\n",
        "        buscar_valor_min(arbol.hoja_izq)\n",
        "        buscar_valor_min(arbol.hoja_der)\n",
        "        weak_score = g1(arbol)\n",
        "        if weak_score < min:\n",
        "          min = weak_score\n",
        "    buscar_valor_min(arbol)\n",
        "    listaMin.append(min)\n",
        "    def _cortar(arbol):\n",
        "      nonlocal min\n",
        "      if arbol.estadoNodo == \"Terminal\":\n",
        "        return nodo(mejor_variable = arbol.mejor_variable,\n",
        "                  threshold = arbol.threshold,\n",
        "                  hoja_izq = arbol.hoja_izq,\n",
        "                  hoja_der = arbol.hoja_der,\n",
        "                  etiqueta = arbol.etiqueta,\n",
        "                  impureza = arbol.impureza,\n",
        "                  estadoNodo = arbol.estadoNodo,\n",
        "                  data = arbol.data)\n",
        "      else:\n",
        "        if g1(arbol) == min:\n",
        "          return nodo(mejor_variable = arbol.mejor_variable,\n",
        "                  threshold = arbol.threshold,\n",
        "                  hoja_izq = None,\n",
        "                  hoja_der = None,\n",
        "                  etiqueta = arbol.etiqueta,\n",
        "                  impureza = arbol.impureza,\n",
        "                  estadoNodo = \"Terminal\",\n",
        "                  data = arbol.data)\n",
        "        else:\n",
        "          h_i = _cortar(arbol.hoja_izq)\n",
        "          h_d = _cortar(arbol.hoja_der)\n",
        "          return nodo(mejor_variable = arbol.mejor_variable,\n",
        "                  threshold = arbol.threshold,\n",
        "                  hoja_izq = h_i,\n",
        "                  hoja_der = h_d,\n",
        "                  etiqueta = arbol.etiqueta,\n",
        "                  impureza = arbol.impureza,\n",
        "                  estadoNodo = arbol.estadoNodo,\n",
        "                  data = arbol.data)\n",
        "    listaArboles.append(_cortar(arbol))\n",
        "    if num_hojas(arbol) > 2:\n",
        "      return _podado(_cortar(arbol))\n",
        "\n",
        "  _podado(arbol)\n",
        "  return listaMin,listaArboles"
      ],
      "metadata": {
        "id": "a4QSjEgPxmLB"
      },
      "execution_count": 236,
      "outputs": []
    },
    {
      "cell_type": "code",
      "source": [
        "alfas,arboles = podado_minimos()\n",
        "print(\"Alfas de nodos de enlace débil: \",alfas)\n",
        "print(\"Gráfica del árbol asociado a alfa = 1/75\")\n",
        "graficarArbol(arboles[2])"
      ],
      "metadata": {
        "colab": {
          "base_uri": "https://localhost:8080/",
          "height": 693
        },
        "id": "rTqJI6KOyHuo",
        "outputId": "a9a79c51-20dc-4246-8b50-4bdce5284d2f"
      },
      "execution_count": 251,
      "outputs": [
        {
          "output_type": "stream",
          "name": "stdout",
          "text": [
            "Alfas de nodos de enlace débil:  [0, Fraction(1, 300), Fraction(1, 150), Fraction(1, 75), Fraction(22, 75), Fraction(1, 3)]\n",
            "Gráfica del árbol asociado a alfa = 1/75\n"
          ]
        },
        {
          "output_type": "execute_result",
          "data": {
            "text/plain": [
              "<graphviz.files.Source at 0x7f411afc0850>"
            ],
            "image/svg+xml": "<?xml version=\"1.0\" encoding=\"UTF-8\" standalone=\"no\"?>\n<!DOCTYPE svg PUBLIC \"-//W3C//DTD SVG 1.1//EN\"\n \"http://www.w3.org/Graphics/SVG/1.1/DTD/svg11.dtd\">\n<!-- Generated by graphviz version 2.40.1 (20161225.0304)\n -->\n<!-- Title: %3 Pages: 1 -->\n<svg width=\"452pt\" height=\"478pt\"\n viewBox=\"0.00 0.00 451.50 478.00\" xmlns=\"http://www.w3.org/2000/svg\" xmlns:xlink=\"http://www.w3.org/1999/xlink\">\n<g id=\"graph0\" class=\"graph\" transform=\"scale(1 1) rotate(0) translate(4 474)\">\n<title>%3</title>\n<polygon fill=\"#ffffff\" stroke=\"transparent\" points=\"-4,4 -4,-474 447.5,-474 447.5,4 -4,4\"/>\n<!-- raiz -->\n<g id=\"node1\" class=\"node\">\n<title>raiz</title>\n<polygon fill=\"none\" stroke=\"#000000\" points=\"264.5,-470 94.5,-470 94.5,-372 264.5,-372 264.5,-470\"/>\n<text text-anchor=\"middle\" x=\"179.5\" y=\"-454.8\" font-family=\"Arial\" font-size=\"14.00\" fill=\"#000000\">Clases = [50, 50, 50]</text>\n<text text-anchor=\"middle\" x=\"179.5\" y=\"-439.8\" font-family=\"Arial\" font-size=\"14.00\" fill=\"#000000\">Num. Clases = 150</text>\n<text text-anchor=\"middle\" x=\"179.5\" y=\"-424.8\" font-family=\"Arial\" font-size=\"14.00\" fill=\"#000000\">Impureza = 0.66667</text>\n<text text-anchor=\"middle\" x=\"179.5\" y=\"-409.8\" font-family=\"Arial\" font-size=\"14.00\" fill=\"#000000\">Etiqueta = Iris&#45;setosa</text>\n<text text-anchor=\"middle\" x=\"179.5\" y=\"-394.8\" font-family=\"Arial\" font-size=\"14.00\" fill=\"#000000\">&#45;&#45;&#45;&#45;&#45;</text>\n<text text-anchor=\"middle\" x=\"179.5\" y=\"-379.8\" font-family=\"Arial\" font-size=\"14.00\" fill=\"#000000\">PetalLengthCm &lt;= 2.45</text>\n</g>\n<!-- raiz&#45;izq -->\n<g id=\"node2\" class=\"node\">\n<title>raiz&#45;izq</title>\n<polygon fill=\"none\" stroke=\"#000000\" points=\"165.5,-321 13.5,-321 13.5,-253 165.5,-253 165.5,-321\"/>\n<text text-anchor=\"middle\" x=\"89.5\" y=\"-305.8\" font-family=\"Arial\" font-size=\"14.00\" fill=\"#000000\">Clases = [50]</text>\n<text text-anchor=\"middle\" x=\"89.5\" y=\"-290.8\" font-family=\"Arial\" font-size=\"14.00\" fill=\"#000000\">Num. Clases = 50</text>\n<text text-anchor=\"middle\" x=\"89.5\" y=\"-275.8\" font-family=\"Arial\" font-size=\"14.00\" fill=\"#000000\">Impureza = 0.0</text>\n<text text-anchor=\"middle\" x=\"89.5\" y=\"-260.8\" font-family=\"Arial\" font-size=\"14.00\" fill=\"#000000\">Etiqueta = Iris&#45;setosa</text>\n</g>\n<!-- raiz&#45;&gt;raiz&#45;izq -->\n<g id=\"edge5\" class=\"edge\">\n<title>raiz&#45;&gt;raiz&#45;izq</title>\n<path fill=\"none\" stroke=\"#000000\" d=\"M146.4984,-371.8642C137.1977,-358.0166 127.1594,-343.0706 118.137,-329.6373\"/>\n<polygon fill=\"#000000\" stroke=\"#000000\" points=\"120.8537,-327.4048 112.3726,-321.0548 115.0428,-331.3077 120.8537,-327.4048\"/>\n</g>\n<!-- raiz&#45;der -->\n<g id=\"node3\" class=\"node\">\n<title>raiz&#45;der</title>\n<polygon fill=\"none\" stroke=\"#000000\" points=\"355,-336 184,-336 184,-238 355,-238 355,-336\"/>\n<text text-anchor=\"middle\" x=\"269.5\" y=\"-320.8\" font-family=\"Arial\" font-size=\"14.00\" fill=\"#000000\">Clases = [50, 50]</text>\n<text text-anchor=\"middle\" x=\"269.5\" y=\"-305.8\" font-family=\"Arial\" font-size=\"14.00\" fill=\"#000000\">Num. Clases = 100</text>\n<text text-anchor=\"middle\" x=\"269.5\" y=\"-290.8\" font-family=\"Arial\" font-size=\"14.00\" fill=\"#000000\">Impureza = 0.5</text>\n<text text-anchor=\"middle\" x=\"269.5\" y=\"-275.8\" font-family=\"Arial\" font-size=\"14.00\" fill=\"#000000\">Etiqueta = Iris&#45;versicolor</text>\n<text text-anchor=\"middle\" x=\"269.5\" y=\"-260.8\" font-family=\"Arial\" font-size=\"14.00\" fill=\"#000000\">&#45;&#45;&#45;&#45;&#45;</text>\n<text text-anchor=\"middle\" x=\"269.5\" y=\"-245.8\" font-family=\"Arial\" font-size=\"14.00\" fill=\"#000000\">PetalWidthCm &lt;= 1.75</text>\n</g>\n<!-- raiz&#45;&gt;raiz&#45;der -->\n<g id=\"edge6\" class=\"edge\">\n<title>raiz&#45;&gt;raiz&#45;der</title>\n<path fill=\"none\" stroke=\"#000000\" d=\"M212.5016,-371.8642C218.4324,-363.034 224.6632,-353.7571 230.7392,-344.7106\"/>\n<polygon fill=\"#000000\" stroke=\"#000000\" points=\"233.8322,-346.3827 236.5024,-336.1298 228.0213,-342.4798 233.8322,-346.3827\"/>\n</g>\n<!-- raiz&#45;der&#45;izq -->\n<g id=\"node4\" class=\"node\">\n<title>raiz&#45;der&#45;izq</title>\n<polygon fill=\"none\" stroke=\"#000000\" points=\"263,-202 92,-202 92,-104 263,-104 263,-202\"/>\n<text text-anchor=\"middle\" x=\"177.5\" y=\"-186.8\" font-family=\"Arial\" font-size=\"14.00\" fill=\"#000000\">Clases = [49, 5]</text>\n<text text-anchor=\"middle\" x=\"177.5\" y=\"-171.8\" font-family=\"Arial\" font-size=\"14.00\" fill=\"#000000\">Num. Clases = 54</text>\n<text text-anchor=\"middle\" x=\"177.5\" y=\"-156.8\" font-family=\"Arial\" font-size=\"14.00\" fill=\"#000000\">Impureza = 0.16804</text>\n<text text-anchor=\"middle\" x=\"177.5\" y=\"-141.8\" font-family=\"Arial\" font-size=\"14.00\" fill=\"#000000\">Etiqueta = Iris&#45;versicolor</text>\n<text text-anchor=\"middle\" x=\"177.5\" y=\"-126.8\" font-family=\"Arial\" font-size=\"14.00\" fill=\"#000000\">&#45;&#45;&#45;&#45;&#45;</text>\n<text text-anchor=\"middle\" x=\"177.5\" y=\"-111.8\" font-family=\"Arial\" font-size=\"14.00\" fill=\"#000000\">PetalLengthCm &lt;= 4.95</text>\n</g>\n<!-- raiz&#45;der&#45;&gt;raiz&#45;der&#45;izq -->\n<g id=\"edge3\" class=\"edge\">\n<title>raiz&#45;der&#45;&gt;raiz&#45;der&#45;izq</title>\n<path fill=\"none\" stroke=\"#000000\" d=\"M235.765,-237.8642C229.6399,-228.9429 223.2019,-219.5657 216.9301,-210.4309\"/>\n<polygon fill=\"#000000\" stroke=\"#000000\" points=\"219.7764,-208.3928 211.2309,-202.1298 214.0056,-212.3549 219.7764,-208.3928\"/>\n</g>\n<!-- raiz&#45;der&#45;der -->\n<g id=\"node7\" class=\"node\">\n<title>raiz&#45;der&#45;der</title>\n<polygon fill=\"none\" stroke=\"#000000\" points=\"443.5,-187 281.5,-187 281.5,-119 443.5,-119 443.5,-187\"/>\n<text text-anchor=\"middle\" x=\"362.5\" y=\"-171.8\" font-family=\"Arial\" font-size=\"14.00\" fill=\"#000000\">Clases = [1, 45]</text>\n<text text-anchor=\"middle\" x=\"362.5\" y=\"-156.8\" font-family=\"Arial\" font-size=\"14.00\" fill=\"#000000\">Num. Clases = 46</text>\n<text text-anchor=\"middle\" x=\"362.5\" y=\"-141.8\" font-family=\"Arial\" font-size=\"14.00\" fill=\"#000000\">Impureza = 0.04253</text>\n<text text-anchor=\"middle\" x=\"362.5\" y=\"-126.8\" font-family=\"Arial\" font-size=\"14.00\" fill=\"#000000\">Etiqueta = Iris&#45;virginica</text>\n</g>\n<!-- raiz&#45;der&#45;&gt;raiz&#45;der&#45;der -->\n<g id=\"edge4\" class=\"edge\">\n<title>raiz&#45;der&#45;&gt;raiz&#45;der&#45;der</title>\n<path fill=\"none\" stroke=\"#000000\" d=\"M303.6017,-237.8642C313.2124,-224.0166 323.5853,-209.0706 332.9085,-195.6373\"/>\n<polygon fill=\"#000000\" stroke=\"#000000\" points=\"336.0386,-197.2657 338.8649,-187.0548 330.2879,-193.2745 336.0386,-197.2657\"/>\n</g>\n<!-- raiz&#45;der&#45;izq&#45;izq -->\n<g id=\"node5\" class=\"node\">\n<title>raiz&#45;der&#45;izq&#45;izq</title>\n<polygon fill=\"none\" stroke=\"#000000\" points=\"171,-68 0,-68 0,0 171,0 171,-68\"/>\n<text text-anchor=\"middle\" x=\"85.5\" y=\"-52.8\" font-family=\"Arial\" font-size=\"14.00\" fill=\"#000000\">Clases = [47, 1]</text>\n<text text-anchor=\"middle\" x=\"85.5\" y=\"-37.8\" font-family=\"Arial\" font-size=\"14.00\" fill=\"#000000\">Num. Clases = 48</text>\n<text text-anchor=\"middle\" x=\"85.5\" y=\"-22.8\" font-family=\"Arial\" font-size=\"14.00\" fill=\"#000000\">Impureza = 0.0408</text>\n<text text-anchor=\"middle\" x=\"85.5\" y=\"-7.8\" font-family=\"Arial\" font-size=\"14.00\" fill=\"#000000\">Etiqueta = Iris&#45;versicolor</text>\n</g>\n<!-- raiz&#45;der&#45;izq&#45;&gt;raiz&#45;der&#45;izq&#45;izq -->\n<g id=\"edge1\" class=\"edge\">\n<title>raiz&#45;der&#45;izq&#45;&gt;raiz&#45;der&#45;izq&#45;izq</title>\n<path fill=\"none\" stroke=\"#000000\" d=\"M139.5489,-103.9111C132.4245,-94.6958 125.0341,-85.1365 118.0905,-76.1551\"/>\n<polygon fill=\"#000000\" stroke=\"#000000\" points=\"120.7451,-73.8663 111.8597,-68.0956 115.2071,-78.1478 120.7451,-73.8663\"/>\n</g>\n<!-- raiz&#45;der&#45;izq&#45;der -->\n<g id=\"node6\" class=\"node\">\n<title>raiz&#45;der&#45;izq&#45;der</title>\n<polygon fill=\"none\" stroke=\"#000000\" points=\"351.5,-68 189.5,-68 189.5,0 351.5,0 351.5,-68\"/>\n<text text-anchor=\"middle\" x=\"270.5\" y=\"-52.8\" font-family=\"Arial\" font-size=\"14.00\" fill=\"#000000\">Clases = [2, 4]</text>\n<text text-anchor=\"middle\" x=\"270.5\" y=\"-37.8\" font-family=\"Arial\" font-size=\"14.00\" fill=\"#000000\">Num. Clases = 6</text>\n<text text-anchor=\"middle\" x=\"270.5\" y=\"-22.8\" font-family=\"Arial\" font-size=\"14.00\" fill=\"#000000\">Impureza = 0.44444</text>\n<text text-anchor=\"middle\" x=\"270.5\" y=\"-7.8\" font-family=\"Arial\" font-size=\"14.00\" fill=\"#000000\">Etiqueta = Iris&#45;virginica</text>\n</g>\n<!-- raiz&#45;der&#45;izq&#45;&gt;raiz&#45;der&#45;izq&#45;der -->\n<g id=\"edge2\" class=\"edge\">\n<title>raiz&#45;der&#45;izq&#45;&gt;raiz&#45;der&#45;izq&#45;der</title>\n<path fill=\"none\" stroke=\"#000000\" d=\"M215.8636,-103.9111C223.0655,-94.6958 230.5362,-85.1365 237.5553,-76.1551\"/>\n<polygon fill=\"#000000\" stroke=\"#000000\" points=\"240.4538,-78.1301 243.8538,-68.0956 234.9383,-73.8197 240.4538,-78.1301\"/>\n</g>\n</g>\n</svg>\n"
          },
          "metadata": {},
          "execution_count": 251
        }
      ]
    },
    {
      "cell_type": "markdown",
      "source": [
        "Los anteriores códigos muestran como generar árboles de clasificación. Sin embargo, si usted quiere probar con su propia base de datos, puede copiar y pegar el siguiente código en un Colab de Google (como este):"
      ],
      "metadata": {
        "id": "qnSgmHL71EgK"
      }
    },
    {
      "cell_type": "code",
      "source": [
        "import pandas as pd \n",
        "import numpy as np  \n",
        "from fractions import Fraction \n",
        "import graphviz # Ayuda a graficar los árboles\n",
        "class arbolClasificacion:\n",
        "  class nodo:\n",
        "    def __init__(\n",
        "        self,mejor_variable = None,\n",
        "        threshold = None,\n",
        "        hoja_izq = None,\n",
        "        hoja_der = None,\n",
        "        etiqueta = None,\n",
        "        impureza = None,\n",
        "        estadoNodo = None,\n",
        "        data = None):\n",
        "      self.mejor_variable = mejor_variable  #Guarda la mejor variable juzgada por la función de disminución de impureza\n",
        "      self.threshold = threshold            #Guarda el mejor umbral de la variable por la función de disminución de impureza\n",
        "      self.hoja_izq = hoja_izq              #Guarda el nodo izquierdo resultado de una división\n",
        "      self.hoja_der = hoja_der              #Guarda el nodo derecho resultado de una división\n",
        "      self.etiqueta = etiqueta              #Guarda la clase representante del nodo (tomando la clase de mayor proporción)\n",
        "      self.impureza = impureza              #Guarda la reducción de la impureza de la variable y el umbral.\n",
        "      self.estadoNodo = estadoNodo          #Guarda el estado del nodo (hoja, no terminal)\n",
        "      self.data = data                      #Guarda un dataframe con los datos que residen en el nodo\n",
        "      \n",
        "  def __init__(\n",
        "    self,max_prof = \"max\",\n",
        "    func_Imp = \"gini\",\n",
        "    num_variables = \"todas\",\n",
        "    min_div = 2):\n",
        "\n",
        "    self.max_prof = max_prof\n",
        "    if func_Imp == \"gini\":\n",
        "      self.func_Imp = self.funcImpGini\n",
        "    elif func_Imp == \"entropia\":\n",
        "      self.func_Imp = self.funcImpEntropia\n",
        "\n",
        "  def funcImpGini(self,datos) -> float:\n",
        "    y = datos[datos.columns[-1]]\n",
        "    proporciones = y.value_counts(normalize=True)\n",
        "    suma = 0\n",
        "    for i in proporciones:\n",
        "      suma += i**2\n",
        "    return 1-suma\n",
        "\n",
        "  def funcImpEntropia(self,datos) -> float:\n",
        "    y = datos[datos.columns[-1]]\n",
        "    proporciones = y.value_counts(normalize=True)\n",
        "    suma = 0\n",
        "    for i in proporciones:\n",
        "      if i == 0:\n",
        "        continue\n",
        "      else:\n",
        "        suma += i*np.log2(i)\n",
        "    return -suma\n",
        "  \n",
        "  def funcReducImp(self,nodo,nodo_izq,nodo_der) -> float: \n",
        "    tamano_nodo, tamano_nodo_izq, tamano_nodo_der = nodo.shape[0],nodo_izq.shape[0],nodo_der.shape[0]\n",
        "    impureza_nodo = self.func_Imp(nodo)\n",
        "    impureza_nodo_izq, impureza_nodo_der = self.func_Imp(nodo_izq), self.func_Imp(nodo_der)\n",
        "    prop_nodo_izq, prop_nodo_der = tamano_nodo_izq / tamano_nodo, tamano_nodo_der / tamano_nodo\n",
        "    return impureza_nodo - prop_nodo_izq * impureza_nodo_izq - prop_nodo_der * impureza_nodo_der\n",
        "  \n",
        "  def mejor_variable_nodo(self,datos):\n",
        "    dicMejor = {} #Aqui se guarda la información de la mejor_variable\n",
        "    max = 0  # Se toma un valor base\n",
        "    nombre_variables = datos.columns[:-1]\n",
        "    for variable in nombre_variables:\n",
        "        datos_variable = datos[variable]\n",
        "        datos_unicos_variable = np.unique(datos_variable) #la función toma los datos únicos y los organiza de menor a mayor\n",
        "        if datos_variable.dtype.kind in 'iufc': #En caso de que la variable sea numérica o booleana\n",
        "            puntos_medios = [(datos_unicos_variable[i]+datos_unicos_variable[i+1])/2 for i in range(len(datos_unicos_variable)-1)] #Se toman los puntos medios\n",
        "            for punto in puntos_medios:\n",
        "                nodo_izq, nodo_der = datos[datos_variable <= punto], datos[datos_variable > punto]\n",
        "                redImpureza = self.funcReducImp(datos,nodo_izq,nodo_der)\n",
        "                if redImpureza > max:\n",
        "                    max = redImpureza\n",
        "                    threshold = punto\n",
        "                    nombre_mejorVariable = variable\n",
        "                    hoja_izq = nodo_izq\n",
        "                    hoja_der = nodo_der\n",
        "        else: #En caso de que la variable sea cualitativa\n",
        "            for cualidad in datos_unicos_variable:\n",
        "                nodo_izq, nodo_der = datos[datos_variable == cualidad], datos[datos_variable != cualidad]\n",
        "                redImpureza = self.funcReducImp(datos,nodo_izq,nodo_der)\n",
        "                if redImpureza > max:\n",
        "                    max = redImpureza\n",
        "                    threshold = cualidad\n",
        "                    nombre_mejorVariable = variable\n",
        "                    hoja_izq = nodo_izq\n",
        "                    hoja_der = nodo_der\n",
        "    dicMejor[\"Variable\"] = nombre_mejorVariable\n",
        "    dicMejor[\"Threshold\"] = threshold\n",
        "    dicMejor[\"valorImpureza\"] = max\n",
        "    dicMejor[\"nodoIzq\"] = hoja_izq\n",
        "    dicMejor[\"nodoDer\"] = hoja_der\n",
        "    return dicMejor\n",
        "\n",
        "  def crear_arbol(self,datos,k = 0): #k representa el nivel del nodo en un grafo, k=0 es la raíz (nivel 0)\n",
        "      datos_unicos = datos.drop_duplicates(subset = datos.columns[:-1])\n",
        "      max_etiquetas_unicas = max(datos.iloc[:,-1].value_counts())\n",
        "      num_datos = datos_unicos.shape[0]\n",
        "      etiqueta_nodo = datos.iloc[:,-1].mode()[0]\n",
        "      if num_datos > 1 and max_etiquetas_unicas != datos.shape[0]:\n",
        "        mejor_div_data = self.mejor_variable_nodo(datos)\n",
        "        mejorVariable = mejor_div_data[\"Variable\"]\n",
        "        mejorThreshold = mejor_div_data[\"Threshold\"]  \n",
        "        subarbol_izq = self.crear_arbol(mejor_div_data[\"nodoIzq\"],k+1)\n",
        "        subarbol_der = self.crear_arbol(mejor_div_data[\"nodoDer\"],k+1)\n",
        "        return self.nodo(mejor_variable=mejorVariable,\n",
        "                        threshold=mejorThreshold,\n",
        "                        hoja_izq = subarbol_izq,\n",
        "                        hoja_der = subarbol_der,\n",
        "                        etiqueta = etiqueta_nodo,\n",
        "                        impureza = mejor_div_data[\"valorImpureza\"],\n",
        "                        data = datos)\n",
        "      return self.nodo(etiqueta = etiqueta_nodo, impureza = self.func_Imp(datos), estadoNodo = \"Terminal\", data = datos)\n",
        "    \n",
        "  def costo_claserror_nodo(self,nodo):\n",
        "    datos = nodo.data\n",
        "    prop = [1-Fraction(i,nodo.data.shape[0]) for i in datos.iloc[:,-1].value_counts()]\n",
        "    return min(prop)\n",
        "\n",
        "  def R_costo_claserror_nodo(self,nodo, alpha = 0):\n",
        "    r_t = (self.costo_claserror_nodo(nodo))*(Fraction(nodo.data.shape[0],self.prop))\n",
        "    return r_t + alpha\n",
        "\n",
        "  def R_costo_claserror_arbol(self,arbol, alpha = 0):\n",
        "    contador = 0\n",
        "    def _costo_arbol(arbol):\n",
        "      nonlocal contador\n",
        "      el_arbol = arbol\n",
        "      if el_arbol.estadoNodo != \"Terminal\":\n",
        "        _costo_arbol(el_arbol.hoja_izq)\n",
        "        _costo_arbol(el_arbol.hoja_der)\n",
        "      else:\n",
        "        contador += self.R_costo_claserror_nodo(el_arbol)\n",
        "      return contador\n",
        "    return _costo_arbol(arbol) + alpha*self.num_hojas(arbol)\n",
        "  \n",
        "  def num_hojas(self,arbol)-> int:\n",
        "    contador = 0\n",
        "    def _num_hojas(arbol):\n",
        "      nonlocal contador\n",
        "      el_arbol = arbol\n",
        "      if el_arbol.estadoNodo != \"Terminal\":\n",
        "        _num_hojas(el_arbol.hoja_izq)\n",
        "        _num_hojas(el_arbol.hoja_der)\n",
        "      else:\n",
        "        contador += 1\n",
        "      return contador\n",
        "    return _num_hojas(arbol)\n",
        "  \n",
        "  def podado_minimos(self):\n",
        "    arbol = self.podado_alpha()\n",
        "    listaMin,listaArboles = [0],[arbol]\n",
        "    g1 = lambda nodo : Fraction(self.R_costo_claserror_nodo(nodo) - self.R_costo_claserror_arbol(nodo) , (self.num_hojas(nodo) - 1))\n",
        "    def _podado(arbol):\n",
        "      nonlocal listaMin,listaArboles\n",
        "      min = float(\"Inf\")\n",
        "      def buscar_valor_min(arbol):\n",
        "        nonlocal min\n",
        "        if arbol.estadoNodo == \"Terminal\":\n",
        "          pass\n",
        "        else:\n",
        "          buscar_valor_min(arbol.hoja_izq)\n",
        "          buscar_valor_min(arbol.hoja_der)\n",
        "          weak_score = g1(arbol)\n",
        "          if weak_score < min:\n",
        "            min = weak_score\n",
        "      buscar_valor_min(arbol)\n",
        "      listaMin.append(min)\n",
        "      def _cortar(arbol):\n",
        "        nonlocal min\n",
        "        if arbol.estadoNodo == \"Terminal\":\n",
        "          return self.nodo(mejor_variable = arbol.mejor_variable,\n",
        "                    threshold = arbol.threshold,\n",
        "                    hoja_izq = arbol.hoja_izq,\n",
        "                    hoja_der = arbol.hoja_der,\n",
        "                    etiqueta = arbol.etiqueta,\n",
        "                    impureza = arbol.impureza,\n",
        "                    estadoNodo = arbol.estadoNodo,\n",
        "                    data = arbol.data)\n",
        "        else:\n",
        "          if g1(arbol) == min:\n",
        "            return self.nodo(mejor_variable = arbol.mejor_variable,\n",
        "                    threshold = arbol.threshold,\n",
        "                    hoja_izq = None,\n",
        "                    hoja_der = None,\n",
        "                    etiqueta = arbol.etiqueta,\n",
        "                    impureza = arbol.impureza,\n",
        "                    estadoNodo = \"Terminal\",\n",
        "                    data = arbol.data)\n",
        "          else:\n",
        "            h_i = _cortar(arbol.hoja_izq)\n",
        "            h_d = _cortar(arbol.hoja_der)\n",
        "            return self.nodo(mejor_variable = arbol.mejor_variable,\n",
        "                    threshold = arbol.threshold,\n",
        "                    hoja_izq = h_i,\n",
        "                    hoja_der = h_d,\n",
        "                    etiqueta = arbol.etiqueta,\n",
        "                    impureza = arbol.impureza,\n",
        "                    estadoNodo = arbol.estadoNodo,\n",
        "                    data = arbol.data)\n",
        "      listaArboles.append(_cortar(arbol))\n",
        "      if self.num_hojas(arbol) > 2:\n",
        "        return _podado(_cortar(arbol))\n",
        "\n",
        "    _podado(arbol)\n",
        "    return listaMin,listaArboles\n",
        "  \n",
        "  def podado_alpha(self,alpha = 0):\n",
        "    _arbol = self.arbol\n",
        "    def _podado(arbol):\n",
        "      nonlocal alpha\n",
        "      switch = False\n",
        "      lista_marcados = None\n",
        "      def marcar_nodos(arbol):\n",
        "        nonlocal alpha, lista_marcados, switch\n",
        "        if arbol.estadoNodo == \"Terminal\":\n",
        "          pass\n",
        "        else:\n",
        "          marcar_nodos(arbol.hoja_izq)\n",
        "          marcar_nodos(arbol.hoja_der)\n",
        "          R_arbol = self.R_costo_claserror_arbol(arbol,alpha)\n",
        "          R_nodo = self.R_costo_claserror_nodo(arbol,alpha)\n",
        "          #print(arbol.mejor_variable,arbol.threshold,R_arbol,R_nodo)\n",
        "          if switch is True:\n",
        "            pass\n",
        "          elif R_arbol >= R_nodo:\n",
        "            switch = True\n",
        "            lista_marcados = (arbol.mejor_variable,arbol.threshold)\n",
        "      marcar_nodos(arbol)\n",
        "      def _cortar(arbol):\n",
        "        nonlocal lista_marcados\n",
        "        if arbol.estadoNodo == \"Terminal\":\n",
        "          return self.nodo(mejor_variable = arbol.mejor_variable,\n",
        "                    threshold = arbol.threshold,\n",
        "                    hoja_izq = arbol.hoja_izq,\n",
        "                    hoja_der = arbol.hoja_der,\n",
        "                    etiqueta = arbol.etiqueta,\n",
        "                    impureza = arbol.impureza,\n",
        "                    estadoNodo = arbol.estadoNodo,\n",
        "                    data = arbol.data)\n",
        "        else:\n",
        "          if (arbol.mejor_variable,arbol.threshold) == lista_marcados:\n",
        "            return self.nodo(mejor_variable = arbol.mejor_variable,\n",
        "                    threshold = arbol.threshold,\n",
        "                    hoja_izq = None,\n",
        "                    hoja_der = None,\n",
        "                    etiqueta = arbol.etiqueta,\n",
        "                    impureza = arbol.impureza,\n",
        "                    estadoNodo = \"Terminal\",\n",
        "                    data = arbol.data)\n",
        "          else:\n",
        "            h_i = _cortar(arbol.hoja_izq)\n",
        "            h_d = _cortar(arbol.hoja_der)\n",
        "            return self.nodo(mejor_variable = arbol.mejor_variable,\n",
        "                    threshold = arbol.threshold,\n",
        "                    hoja_izq = h_i,\n",
        "                    hoja_der = h_d,\n",
        "                    etiqueta = arbol.etiqueta,\n",
        "                    impureza = arbol.impureza,\n",
        "                    estadoNodo = arbol.estadoNodo,\n",
        "                    data = arbol.data)\n",
        "      if switch is True:\n",
        "        return _podado(_cortar(arbol))      \n",
        "      else:        \n",
        "        return _cortar(arbol)\n",
        "    return _podado(_arbol)\n",
        "\n",
        "  def fit (self,X,y):\n",
        "    X_copia = X.copy()\n",
        "    datos = pd.concat([X_copia, y], axis=1)\n",
        "    self.nombre_columnas = datos.columns\n",
        "    self.prop = datos.shape[0]\n",
        "    self.arbol = self.crear_arbol(datos)\n",
        "    \n",
        "  def _predict(self,datos,arbol):\n",
        "    def _converir_formato_numpy2pd(dato):\n",
        "      pandas = pd.DataFrame([dato], columns = self.nombre_columnas[:-1])\n",
        "      return pandas\n",
        "    def _evaluarenArbol(dato,arbol):\n",
        "      if arbol.estadoNodo == \"Terminal\": return arbol.etiqueta\n",
        "      else:\n",
        "        variable = arbol.mejor_variable\n",
        "        threshold = arbol.threshold\n",
        "        if (dato[variable] <= threshold).bool() is True:\n",
        "          return _evaluarenArbol(dato,arbol.hoja_izq)\n",
        "        else:\n",
        "          return _evaluarenArbol(dato,arbol.hoja_der)\n",
        "    if isinstance(datos,pd.DataFrame):\n",
        "      data_res = [_evaluarenArbol(_converir_formato_numpy2pd(i),arbol) for i in datos.to_numpy()]\n",
        "    else:\n",
        "      data_res = [_evaluarenArbol(_converir_formato_numpy2pd(i),arbol) for i in datos]\n",
        "    return data_res\n",
        "\n",
        "  def predict(self,datos):\n",
        "    return self._predict(datos,clf.arbol)\n",
        "\n",
        "  def graficarArbol(self,arbol):\n",
        "    tree = graphviz.Digraph(comment='Arbol de Decisión')\n",
        "    def atributosAtexto(arbol,terminal = 0):\n",
        "      lista = [str(\"Clases = \") +str(arbol.data.iloc[:,-1].value_counts(sort=False).to_list()),\n",
        "               str(\"Num. Clases = \") +str(sum(arbol.data.iloc[:,-1].value_counts(sort=False).to_list())),\n",
        "               str(\"Impureza = \")+str(np.round(self.func_Imp(arbol.data),5)),\n",
        "               str(\"Etiqueta = \")+str(arbol.etiqueta),\n",
        "               str(\"-----\"),\n",
        "               str(arbol.mejor_variable)+str(\" <= \")+str(arbol.threshold)]\n",
        "      if terminal == 1:\n",
        "        lista2 = lista[:-2]\n",
        "        return '\\n'.join(lista2)\n",
        "      else:\n",
        "        return '\\n'.join(lista)\n",
        "    def marcar_hojas(nodo,eti = \"raiz\"):\n",
        "      strizq = eti + \"-\" + \"izq\"\n",
        "      strder = eti + \"-\" + \"der\"\n",
        "      if nodo.estadoNodo == None:\n",
        "        tree.node(eti, atributosAtexto(nodo),shape='box',fontname=\"Arial\")\n",
        "        marcar_hojas(nodo.hoja_izq,strizq)\n",
        "        marcar_hojas(nodo.hoja_der,strder)\n",
        "        tree.edge(eti, strizq)\n",
        "        tree.edge(eti, strder)\n",
        "\n",
        "      elif nodo.estadoNodo != \"Terminal\":\n",
        "        tree.node(eti, atributosAtexto(nodo),shape='box',fontname=\"Arial\")\n",
        "        marcar_hojas(nodo.hoja_izq,eti)\n",
        "        marcar_hojas(nodo.hoja_der,eti)\n",
        "      else:\n",
        "        tree.node(eti, atributosAtexto(nodo, terminal = 1),shape='box',fontname=\"Arial\")\n",
        "    marcar_hojas(arbol)\n",
        "    return graphviz.Source(tree)\n"
      ],
      "metadata": {
        "id": "DKD-cB5R2NzJ"
      },
      "execution_count": 267,
      "outputs": []
    },
    {
      "cell_type": "markdown",
      "source": [
        "Ahora bien, para usar el anterior código primero defina el conjunto $X$ de variables independientes, y el conjunto $y$ de la variable dependiente. Entonces:"
      ],
      "metadata": {
        "id": "6qVgdzde-FM2"
      }
    },
    {
      "cell_type": "code",
      "source": [
        "X = datos.iloc[:,:-1]\n",
        "y = datos.iloc[:,-1]\n",
        "#Para nuestro caso se tomará una muestra de aprendizaje y de prueba que puede ser generada con el siguiente codigo:\n",
        "from sklearn.model_selection import train_test_split\n",
        "X_train, X_test, y_train, y_test = train_test_split(X, y, test_size=0.33, random_state=42)\n",
        "X_train.head()"
      ],
      "metadata": {
        "colab": {
          "base_uri": "https://localhost:8080/",
          "height": 206
        },
        "id": "N29R_GX17tI7",
        "outputId": "55eb48db-8a1c-4c21-ff79-33d06cbfc203"
      },
      "execution_count": 277,
      "outputs": [
        {
          "output_type": "execute_result",
          "data": {
            "text/plain": [
              "     SepalLengthCm  SepalWidthCm  PetalLengthCm  PetalWidthCm\n",
              "96             5.7           2.9            4.2           1.3\n",
              "105            7.6           3.0            6.6           2.1\n",
              "66             5.6           3.0            4.5           1.5\n",
              "0              5.1           3.5            1.4           0.2\n",
              "122            7.7           2.8            6.7           2.0"
            ],
            "text/html": [
              "\n",
              "  <div id=\"df-dfbb7a53-dd69-4407-a1bb-ea77a18bed2d\">\n",
              "    <div class=\"colab-df-container\">\n",
              "      <div>\n",
              "<style scoped>\n",
              "    .dataframe tbody tr th:only-of-type {\n",
              "        vertical-align: middle;\n",
              "    }\n",
              "\n",
              "    .dataframe tbody tr th {\n",
              "        vertical-align: top;\n",
              "    }\n",
              "\n",
              "    .dataframe thead th {\n",
              "        text-align: right;\n",
              "    }\n",
              "</style>\n",
              "<table border=\"1\" class=\"dataframe\">\n",
              "  <thead>\n",
              "    <tr style=\"text-align: right;\">\n",
              "      <th></th>\n",
              "      <th>SepalLengthCm</th>\n",
              "      <th>SepalWidthCm</th>\n",
              "      <th>PetalLengthCm</th>\n",
              "      <th>PetalWidthCm</th>\n",
              "    </tr>\n",
              "  </thead>\n",
              "  <tbody>\n",
              "    <tr>\n",
              "      <th>96</th>\n",
              "      <td>5.7</td>\n",
              "      <td>2.9</td>\n",
              "      <td>4.2</td>\n",
              "      <td>1.3</td>\n",
              "    </tr>\n",
              "    <tr>\n",
              "      <th>105</th>\n",
              "      <td>7.6</td>\n",
              "      <td>3.0</td>\n",
              "      <td>6.6</td>\n",
              "      <td>2.1</td>\n",
              "    </tr>\n",
              "    <tr>\n",
              "      <th>66</th>\n",
              "      <td>5.6</td>\n",
              "      <td>3.0</td>\n",
              "      <td>4.5</td>\n",
              "      <td>1.5</td>\n",
              "    </tr>\n",
              "    <tr>\n",
              "      <th>0</th>\n",
              "      <td>5.1</td>\n",
              "      <td>3.5</td>\n",
              "      <td>1.4</td>\n",
              "      <td>0.2</td>\n",
              "    </tr>\n",
              "    <tr>\n",
              "      <th>122</th>\n",
              "      <td>7.7</td>\n",
              "      <td>2.8</td>\n",
              "      <td>6.7</td>\n",
              "      <td>2.0</td>\n",
              "    </tr>\n",
              "  </tbody>\n",
              "</table>\n",
              "</div>\n",
              "      <button class=\"colab-df-convert\" onclick=\"convertToInteractive('df-dfbb7a53-dd69-4407-a1bb-ea77a18bed2d')\"\n",
              "              title=\"Convert this dataframe to an interactive table.\"\n",
              "              style=\"display:none;\">\n",
              "        \n",
              "  <svg xmlns=\"http://www.w3.org/2000/svg\" height=\"24px\"viewBox=\"0 0 24 24\"\n",
              "       width=\"24px\">\n",
              "    <path d=\"M0 0h24v24H0V0z\" fill=\"none\"/>\n",
              "    <path d=\"M18.56 5.44l.94 2.06.94-2.06 2.06-.94-2.06-.94-.94-2.06-.94 2.06-2.06.94zm-11 1L8.5 8.5l.94-2.06 2.06-.94-2.06-.94L8.5 2.5l-.94 2.06-2.06.94zm10 10l.94 2.06.94-2.06 2.06-.94-2.06-.94-.94-2.06-.94 2.06-2.06.94z\"/><path d=\"M17.41 7.96l-1.37-1.37c-.4-.4-.92-.59-1.43-.59-.52 0-1.04.2-1.43.59L10.3 9.45l-7.72 7.72c-.78.78-.78 2.05 0 2.83L4 21.41c.39.39.9.59 1.41.59.51 0 1.02-.2 1.41-.59l7.78-7.78 2.81-2.81c.8-.78.8-2.07 0-2.86zM5.41 20L4 18.59l7.72-7.72 1.47 1.35L5.41 20z\"/>\n",
              "  </svg>\n",
              "      </button>\n",
              "      \n",
              "  <style>\n",
              "    .colab-df-container {\n",
              "      display:flex;\n",
              "      flex-wrap:wrap;\n",
              "      gap: 12px;\n",
              "    }\n",
              "\n",
              "    .colab-df-convert {\n",
              "      background-color: #E8F0FE;\n",
              "      border: none;\n",
              "      border-radius: 50%;\n",
              "      cursor: pointer;\n",
              "      display: none;\n",
              "      fill: #1967D2;\n",
              "      height: 32px;\n",
              "      padding: 0 0 0 0;\n",
              "      width: 32px;\n",
              "    }\n",
              "\n",
              "    .colab-df-convert:hover {\n",
              "      background-color: #E2EBFA;\n",
              "      box-shadow: 0px 1px 2px rgba(60, 64, 67, 0.3), 0px 1px 3px 1px rgba(60, 64, 67, 0.15);\n",
              "      fill: #174EA6;\n",
              "    }\n",
              "\n",
              "    [theme=dark] .colab-df-convert {\n",
              "      background-color: #3B4455;\n",
              "      fill: #D2E3FC;\n",
              "    }\n",
              "\n",
              "    [theme=dark] .colab-df-convert:hover {\n",
              "      background-color: #434B5C;\n",
              "      box-shadow: 0px 1px 3px 1px rgba(0, 0, 0, 0.15);\n",
              "      filter: drop-shadow(0px 1px 2px rgba(0, 0, 0, 0.3));\n",
              "      fill: #FFFFFF;\n",
              "    }\n",
              "  </style>\n",
              "\n",
              "      <script>\n",
              "        const buttonEl =\n",
              "          document.querySelector('#df-dfbb7a53-dd69-4407-a1bb-ea77a18bed2d button.colab-df-convert');\n",
              "        buttonEl.style.display =\n",
              "          google.colab.kernel.accessAllowed ? 'block' : 'none';\n",
              "\n",
              "        async function convertToInteractive(key) {\n",
              "          const element = document.querySelector('#df-dfbb7a53-dd69-4407-a1bb-ea77a18bed2d');\n",
              "          const dataTable =\n",
              "            await google.colab.kernel.invokeFunction('convertToInteractive',\n",
              "                                                     [key], {});\n",
              "          if (!dataTable) return;\n",
              "\n",
              "          const docLinkHtml = 'Like what you see? Visit the ' +\n",
              "            '<a target=\"_blank\" href=https://colab.research.google.com/notebooks/data_table.ipynb>data table notebook</a>'\n",
              "            + ' to learn more about interactive tables.';\n",
              "          element.innerHTML = '';\n",
              "          dataTable['output_type'] = 'display_data';\n",
              "          await google.colab.output.renderOutput(dataTable, element);\n",
              "          const docLink = document.createElement('div');\n",
              "          docLink.innerHTML = docLinkHtml;\n",
              "          element.appendChild(docLink);\n",
              "        }\n",
              "      </script>\n",
              "    </div>\n",
              "  </div>\n",
              "  "
            ]
          },
          "metadata": {},
          "execution_count": 277
        }
      ]
    },
    {
      "cell_type": "markdown",
      "source": [
        "Ahora bien, ejecute el siguiente código"
      ],
      "metadata": {
        "id": "G4t5sT8X-Zhz"
      }
    },
    {
      "cell_type": "code",
      "source": [
        "clf = arbolClasificacion()\n",
        "clf.fit(X_train,y_train)"
      ],
      "metadata": {
        "id": "AgM8PxzK7x0-"
      },
      "execution_count": 278,
      "outputs": []
    },
    {
      "cell_type": "markdown",
      "source": [
        "El árbol ha sido creado, si usted lo quiere visualizar, puede usar la función creada anteriormente:"
      ],
      "metadata": {
        "id": "QWGBD6Qi-ibc"
      }
    },
    {
      "cell_type": "code",
      "source": [
        "clf.graficarArbol(clf.arbol)"
      ],
      "metadata": {
        "colab": {
          "base_uri": "https://localhost:8080/",
          "height": 1000
        },
        "id": "Vr-5lamv-gXF",
        "outputId": "1c64dabc-b406-4d74-bdb3-68d4eeb2c20d"
      },
      "execution_count": 279,
      "outputs": [
        {
          "output_type": "execute_result",
          "data": {
            "text/plain": [
              "<graphviz.files.Source at 0x7f410e65dd90>"
            ],
            "image/svg+xml": "<?xml version=\"1.0\" encoding=\"UTF-8\" standalone=\"no\"?>\n<!DOCTYPE svg PUBLIC \"-//W3C//DTD SVG 1.1//EN\"\n \"http://www.w3.org/Graphics/SVG/1.1/DTD/svg11.dtd\">\n<!-- Generated by graphviz version 2.40.1 (20161225.0304)\n -->\n<!-- Title: %3 Pages: 1 -->\n<svg width=\"1061pt\" height=\"880pt\"\n viewBox=\"0.00 0.00 1060.50 880.00\" xmlns=\"http://www.w3.org/2000/svg\" xmlns:xlink=\"http://www.w3.org/1999/xlink\">\n<g id=\"graph0\" class=\"graph\" transform=\"scale(1 1) rotate(0) translate(4 876)\">\n<title>%3</title>\n<polygon fill=\"#ffffff\" stroke=\"transparent\" points=\"-4,4 -4,-876 1056.5,-876 1056.5,4 -4,4\"/>\n<!-- raiz -->\n<g id=\"node1\" class=\"node\">\n<title>raiz</title>\n<polygon fill=\"none\" stroke=\"#000000\" points=\"687,-872 516,-872 516,-774 687,-774 687,-872\"/>\n<text text-anchor=\"middle\" x=\"601.5\" y=\"-856.8\" font-family=\"Arial\" font-size=\"14.00\" fill=\"#000000\">Clases = [35, 34, 31]</text>\n<text text-anchor=\"middle\" x=\"601.5\" y=\"-841.8\" font-family=\"Arial\" font-size=\"14.00\" fill=\"#000000\">Num. Clases = 100</text>\n<text text-anchor=\"middle\" x=\"601.5\" y=\"-826.8\" font-family=\"Arial\" font-size=\"14.00\" fill=\"#000000\">Impureza = 0.6658</text>\n<text text-anchor=\"middle\" x=\"601.5\" y=\"-811.8\" font-family=\"Arial\" font-size=\"14.00\" fill=\"#000000\">Etiqueta = Iris&#45;versicolor</text>\n<text text-anchor=\"middle\" x=\"601.5\" y=\"-796.8\" font-family=\"Arial\" font-size=\"14.00\" fill=\"#000000\">&#45;&#45;&#45;&#45;&#45;</text>\n<text text-anchor=\"middle\" x=\"601.5\" y=\"-781.8\" font-family=\"Arial\" font-size=\"14.00\" fill=\"#000000\">PetalLengthCm &lt;= 2.45</text>\n</g>\n<!-- raiz&#45;izq -->\n<g id=\"node2\" class=\"node\">\n<title>raiz&#45;izq</title>\n<polygon fill=\"none\" stroke=\"#000000\" points=\"587.5,-723 435.5,-723 435.5,-655 587.5,-655 587.5,-723\"/>\n<text text-anchor=\"middle\" x=\"511.5\" y=\"-707.8\" font-family=\"Arial\" font-size=\"14.00\" fill=\"#000000\">Clases = [31]</text>\n<text text-anchor=\"middle\" x=\"511.5\" y=\"-692.8\" font-family=\"Arial\" font-size=\"14.00\" fill=\"#000000\">Num. Clases = 31</text>\n<text text-anchor=\"middle\" x=\"511.5\" y=\"-677.8\" font-family=\"Arial\" font-size=\"14.00\" fill=\"#000000\">Impureza = 0.0</text>\n<text text-anchor=\"middle\" x=\"511.5\" y=\"-662.8\" font-family=\"Arial\" font-size=\"14.00\" fill=\"#000000\">Etiqueta = Iris&#45;setosa</text>\n</g>\n<!-- raiz&#45;&gt;raiz&#45;izq -->\n<g id=\"edge17\" class=\"edge\">\n<title>raiz&#45;&gt;raiz&#45;izq</title>\n<path fill=\"none\" stroke=\"#000000\" d=\"M568.4984,-773.8642C559.1977,-760.0166 549.1594,-745.0706 540.137,-731.6373\"/>\n<polygon fill=\"#000000\" stroke=\"#000000\" points=\"542.8537,-729.4048 534.3726,-723.0548 537.0428,-733.3077 542.8537,-729.4048\"/>\n</g>\n<!-- raiz&#45;der -->\n<g id=\"node3\" class=\"node\">\n<title>raiz&#45;der</title>\n<polygon fill=\"none\" stroke=\"#000000\" points=\"777,-738 606,-738 606,-640 777,-640 777,-738\"/>\n<text text-anchor=\"middle\" x=\"691.5\" y=\"-722.8\" font-family=\"Arial\" font-size=\"14.00\" fill=\"#000000\">Clases = [35, 34]</text>\n<text text-anchor=\"middle\" x=\"691.5\" y=\"-707.8\" font-family=\"Arial\" font-size=\"14.00\" fill=\"#000000\">Num. Clases = 69</text>\n<text text-anchor=\"middle\" x=\"691.5\" y=\"-692.8\" font-family=\"Arial\" font-size=\"14.00\" fill=\"#000000\">Impureza = 0.49989</text>\n<text text-anchor=\"middle\" x=\"691.5\" y=\"-677.8\" font-family=\"Arial\" font-size=\"14.00\" fill=\"#000000\">Etiqueta = Iris&#45;versicolor</text>\n<text text-anchor=\"middle\" x=\"691.5\" y=\"-662.8\" font-family=\"Arial\" font-size=\"14.00\" fill=\"#000000\">&#45;&#45;&#45;&#45;&#45;</text>\n<text text-anchor=\"middle\" x=\"691.5\" y=\"-647.8\" font-family=\"Arial\" font-size=\"14.00\" fill=\"#000000\">PetalWidthCm &lt;= 1.75</text>\n</g>\n<!-- raiz&#45;&gt;raiz&#45;der -->\n<g id=\"edge18\" class=\"edge\">\n<title>raiz&#45;&gt;raiz&#45;der</title>\n<path fill=\"none\" stroke=\"#000000\" d=\"M634.5016,-773.8642C640.4324,-765.034 646.6632,-755.7571 652.7392,-746.7106\"/>\n<polygon fill=\"#000000\" stroke=\"#000000\" points=\"655.8322,-748.3827 658.5024,-738.1298 650.0213,-744.4798 655.8322,-748.3827\"/>\n</g>\n<!-- raiz&#45;der&#45;izq -->\n<g id=\"node4\" class=\"node\">\n<title>raiz&#45;der&#45;izq</title>\n<polygon fill=\"none\" stroke=\"#000000\" points=\"683,-604 512,-604 512,-506 683,-506 683,-604\"/>\n<text text-anchor=\"middle\" x=\"597.5\" y=\"-588.8\" font-family=\"Arial\" font-size=\"14.00\" fill=\"#000000\">Clases = [34, 4]</text>\n<text text-anchor=\"middle\" x=\"597.5\" y=\"-573.8\" font-family=\"Arial\" font-size=\"14.00\" fill=\"#000000\">Num. Clases = 38</text>\n<text text-anchor=\"middle\" x=\"597.5\" y=\"-558.8\" font-family=\"Arial\" font-size=\"14.00\" fill=\"#000000\">Impureza = 0.18837</text>\n<text text-anchor=\"middle\" x=\"597.5\" y=\"-543.8\" font-family=\"Arial\" font-size=\"14.00\" fill=\"#000000\">Etiqueta = Iris&#45;versicolor</text>\n<text text-anchor=\"middle\" x=\"597.5\" y=\"-528.8\" font-family=\"Arial\" font-size=\"14.00\" fill=\"#000000\">&#45;&#45;&#45;&#45;&#45;</text>\n<text text-anchor=\"middle\" x=\"597.5\" y=\"-513.8\" font-family=\"Arial\" font-size=\"14.00\" fill=\"#000000\">PetalLengthCm &lt;= 5.35</text>\n</g>\n<!-- raiz&#45;der&#45;&gt;raiz&#45;der&#45;izq -->\n<g id=\"edge15\" class=\"edge\">\n<title>raiz&#45;der&#45;&gt;raiz&#45;der&#45;izq</title>\n<path fill=\"none\" stroke=\"#000000\" d=\"M657.0316,-639.8642C650.7734,-630.9429 644.1954,-621.5657 637.7873,-612.4309\"/>\n<polygon fill=\"#000000\" stroke=\"#000000\" points=\"640.5724,-610.3064 631.9642,-604.1298 634.8418,-614.3264 640.5724,-610.3064\"/>\n</g>\n<!-- raiz&#45;der&#45;der -->\n<g id=\"node15\" class=\"node\">\n<title>raiz&#45;der&#45;der</title>\n<polygon fill=\"none\" stroke=\"#000000\" points=\"871.5,-604 701.5,-604 701.5,-506 871.5,-506 871.5,-604\"/>\n<text text-anchor=\"middle\" x=\"786.5\" y=\"-588.8\" font-family=\"Arial\" font-size=\"14.00\" fill=\"#000000\">Clases = [30, 1]</text>\n<text text-anchor=\"middle\" x=\"786.5\" y=\"-573.8\" font-family=\"Arial\" font-size=\"14.00\" fill=\"#000000\">Num. Clases = 31</text>\n<text text-anchor=\"middle\" x=\"786.5\" y=\"-558.8\" font-family=\"Arial\" font-size=\"14.00\" fill=\"#000000\">Impureza = 0.06243</text>\n<text text-anchor=\"middle\" x=\"786.5\" y=\"-543.8\" font-family=\"Arial\" font-size=\"14.00\" fill=\"#000000\">Etiqueta = Iris&#45;virginica</text>\n<text text-anchor=\"middle\" x=\"786.5\" y=\"-528.8\" font-family=\"Arial\" font-size=\"14.00\" fill=\"#000000\">&#45;&#45;&#45;&#45;&#45;</text>\n<text text-anchor=\"middle\" x=\"786.5\" y=\"-513.8\" font-family=\"Arial\" font-size=\"14.00\" fill=\"#000000\">PetalLengthCm &lt;= 4.85</text>\n</g>\n<!-- raiz&#45;der&#45;&gt;raiz&#45;der&#45;der -->\n<g id=\"edge16\" class=\"edge\">\n<title>raiz&#45;der&#45;&gt;raiz&#45;der&#45;der</title>\n<path fill=\"none\" stroke=\"#000000\" d=\"M726.3351,-639.8642C732.6599,-630.9429 739.3079,-621.5657 745.7841,-612.4309\"/>\n<polygon fill=\"#000000\" stroke=\"#000000\" points=\"748.7408,-614.312 751.6692,-604.1298 743.0303,-610.2634 748.7408,-614.312\"/>\n</g>\n<!-- raiz&#45;der&#45;izq&#45;izq -->\n<g id=\"node5\" class=\"node\">\n<title>raiz&#45;der&#45;izq&#45;izq</title>\n<polygon fill=\"none\" stroke=\"#000000\" points=\"499.5,-470 325.5,-470 325.5,-372 499.5,-372 499.5,-470\"/>\n<text text-anchor=\"middle\" x=\"412.5\" y=\"-454.8\" font-family=\"Arial\" font-size=\"14.00\" fill=\"#000000\">Clases = [34, 2]</text>\n<text text-anchor=\"middle\" x=\"412.5\" y=\"-439.8\" font-family=\"Arial\" font-size=\"14.00\" fill=\"#000000\">Num. Clases = 36</text>\n<text text-anchor=\"middle\" x=\"412.5\" y=\"-424.8\" font-family=\"Arial\" font-size=\"14.00\" fill=\"#000000\">Impureza = 0.10494</text>\n<text text-anchor=\"middle\" x=\"412.5\" y=\"-409.8\" font-family=\"Arial\" font-size=\"14.00\" fill=\"#000000\">Etiqueta = Iris&#45;versicolor</text>\n<text text-anchor=\"middle\" x=\"412.5\" y=\"-394.8\" font-family=\"Arial\" font-size=\"14.00\" fill=\"#000000\">&#45;&#45;&#45;&#45;&#45;</text>\n<text text-anchor=\"middle\" x=\"412.5\" y=\"-379.8\" font-family=\"Arial\" font-size=\"14.00\" fill=\"#000000\">SepalLengthCm &lt;= 4.95</text>\n</g>\n<!-- raiz&#45;der&#45;izq&#45;&gt;raiz&#45;der&#45;izq&#45;izq -->\n<g id=\"edge9\" class=\"edge\">\n<title>raiz&#45;der&#45;izq&#45;&gt;raiz&#45;der&#45;izq&#45;izq</title>\n<path fill=\"none\" stroke=\"#000000\" d=\"M529.6633,-505.8642C516.3411,-496.2147 502.2826,-486.0317 488.7075,-476.199\"/>\n<polygon fill=\"#000000\" stroke=\"#000000\" points=\"490.4804,-473.1614 480.3285,-470.1298 486.3741,-478.8305 490.4804,-473.1614\"/>\n</g>\n<!-- raiz&#45;der&#45;izq&#45;der -->\n<g id=\"node14\" class=\"node\">\n<title>raiz&#45;der&#45;izq&#45;der</title>\n<polygon fill=\"none\" stroke=\"#000000\" points=\"679.5,-455 517.5,-455 517.5,-387 679.5,-387 679.5,-455\"/>\n<text text-anchor=\"middle\" x=\"598.5\" y=\"-439.8\" font-family=\"Arial\" font-size=\"14.00\" fill=\"#000000\">Clases = [2]</text>\n<text text-anchor=\"middle\" x=\"598.5\" y=\"-424.8\" font-family=\"Arial\" font-size=\"14.00\" fill=\"#000000\">Num. Clases = 2</text>\n<text text-anchor=\"middle\" x=\"598.5\" y=\"-409.8\" font-family=\"Arial\" font-size=\"14.00\" fill=\"#000000\">Impureza = 0.0</text>\n<text text-anchor=\"middle\" x=\"598.5\" y=\"-394.8\" font-family=\"Arial\" font-size=\"14.00\" fill=\"#000000\">Etiqueta = Iris&#45;virginica</text>\n</g>\n<!-- raiz&#45;der&#45;izq&#45;&gt;raiz&#45;der&#45;izq&#45;der -->\n<g id=\"edge10\" class=\"edge\">\n<title>raiz&#45;der&#45;izq&#45;&gt;raiz&#45;der&#45;izq&#45;der</title>\n<path fill=\"none\" stroke=\"#000000\" d=\"M597.8667,-505.8642C597.9661,-492.5441 598.0731,-478.2078 598.1703,-465.179\"/>\n<polygon fill=\"#000000\" stroke=\"#000000\" points=\"601.671,-465.0807 598.2459,-455.0548 594.6712,-465.0284 601.671,-465.0807\"/>\n</g>\n<!-- raiz&#45;der&#45;izq&#45;izq&#45;izq -->\n<g id=\"node6\" class=\"node\">\n<title>raiz&#45;der&#45;izq&#45;izq&#45;izq</title>\n<polygon fill=\"none\" stroke=\"#000000\" points=\"355,-336 184,-336 184,-238 355,-238 355,-336\"/>\n<text text-anchor=\"middle\" x=\"269.5\" y=\"-320.8\" font-family=\"Arial\" font-size=\"14.00\" fill=\"#000000\">Clases = [1, 1]</text>\n<text text-anchor=\"middle\" x=\"269.5\" y=\"-305.8\" font-family=\"Arial\" font-size=\"14.00\" fill=\"#000000\">Num. Clases = 2</text>\n<text text-anchor=\"middle\" x=\"269.5\" y=\"-290.8\" font-family=\"Arial\" font-size=\"14.00\" fill=\"#000000\">Impureza = 0.5</text>\n<text text-anchor=\"middle\" x=\"269.5\" y=\"-275.8\" font-family=\"Arial\" font-size=\"14.00\" fill=\"#000000\">Etiqueta = Iris&#45;versicolor</text>\n<text text-anchor=\"middle\" x=\"269.5\" y=\"-260.8\" font-family=\"Arial\" font-size=\"14.00\" fill=\"#000000\">&#45;&#45;&#45;&#45;&#45;</text>\n<text text-anchor=\"middle\" x=\"269.5\" y=\"-245.8\" font-family=\"Arial\" font-size=\"14.00\" fill=\"#000000\">SepalWidthCm &lt;= 2.45</text>\n</g>\n<!-- raiz&#45;der&#45;izq&#45;izq&#45;&gt;raiz&#45;der&#45;izq&#45;izq&#45;izq -->\n<g id=\"edge7\" class=\"edge\">\n<title>raiz&#45;der&#45;izq&#45;izq&#45;&gt;raiz&#45;der&#45;izq&#45;izq&#45;izq</title>\n<path fill=\"none\" stroke=\"#000000\" d=\"M360.0641,-371.8642C350.0578,-362.4878 339.5142,-352.6077 329.2982,-343.0346\"/>\n<polygon fill=\"#000000\" stroke=\"#000000\" points=\"331.6198,-340.4136 321.9296,-336.1298 326.8334,-345.5215 331.6198,-340.4136\"/>\n</g>\n<!-- raiz&#45;der&#45;izq&#45;izq&#45;der -->\n<g id=\"node9\" class=\"node\">\n<title>raiz&#45;der&#45;izq&#45;izq&#45;der</title>\n<polygon fill=\"none\" stroke=\"#000000\" points=\"544,-336 373,-336 373,-238 544,-238 544,-336\"/>\n<text text-anchor=\"middle\" x=\"458.5\" y=\"-320.8\" font-family=\"Arial\" font-size=\"14.00\" fill=\"#000000\">Clases = [33, 1]</text>\n<text text-anchor=\"middle\" x=\"458.5\" y=\"-305.8\" font-family=\"Arial\" font-size=\"14.00\" fill=\"#000000\">Num. Clases = 34</text>\n<text text-anchor=\"middle\" x=\"458.5\" y=\"-290.8\" font-family=\"Arial\" font-size=\"14.00\" fill=\"#000000\">Impureza = 0.05709</text>\n<text text-anchor=\"middle\" x=\"458.5\" y=\"-275.8\" font-family=\"Arial\" font-size=\"14.00\" fill=\"#000000\">Etiqueta = Iris&#45;versicolor</text>\n<text text-anchor=\"middle\" x=\"458.5\" y=\"-260.8\" font-family=\"Arial\" font-size=\"14.00\" fill=\"#000000\">&#45;&#45;&#45;&#45;&#45;</text>\n<text text-anchor=\"middle\" x=\"458.5\" y=\"-245.8\" font-family=\"Arial\" font-size=\"14.00\" fill=\"#000000\">SepalWidthCm &lt;= 2.25</text>\n</g>\n<!-- raiz&#45;der&#45;izq&#45;izq&#45;&gt;raiz&#45;der&#45;izq&#45;izq&#45;der -->\n<g id=\"edge8\" class=\"edge\">\n<title>raiz&#45;der&#45;izq&#45;izq&#45;&gt;raiz&#45;der&#45;izq&#45;izq&#45;der</title>\n<path fill=\"none\" stroke=\"#000000\" d=\"M429.3675,-371.8642C432.2738,-363.3981 435.321,-354.5214 438.3043,-345.8309\"/>\n<polygon fill=\"#000000\" stroke=\"#000000\" points=\"441.698,-346.7245 441.6345,-336.1298 435.0772,-344.4516 441.698,-346.7245\"/>\n</g>\n<!-- raiz&#45;der&#45;izq&#45;izq&#45;izq&#45;izq -->\n<g id=\"node7\" class=\"node\">\n<title>raiz&#45;der&#45;izq&#45;izq&#45;izq&#45;izq</title>\n<polygon fill=\"none\" stroke=\"#000000\" points=\"171,-187 0,-187 0,-119 171,-119 171,-187\"/>\n<text text-anchor=\"middle\" x=\"85.5\" y=\"-171.8\" font-family=\"Arial\" font-size=\"14.00\" fill=\"#000000\">Clases = [1]</text>\n<text text-anchor=\"middle\" x=\"85.5\" y=\"-156.8\" font-family=\"Arial\" font-size=\"14.00\" fill=\"#000000\">Num. Clases = 1</text>\n<text text-anchor=\"middle\" x=\"85.5\" y=\"-141.8\" font-family=\"Arial\" font-size=\"14.00\" fill=\"#000000\">Impureza = 0.0</text>\n<text text-anchor=\"middle\" x=\"85.5\" y=\"-126.8\" font-family=\"Arial\" font-size=\"14.00\" fill=\"#000000\">Etiqueta = Iris&#45;versicolor</text>\n</g>\n<!-- raiz&#45;der&#45;izq&#45;izq&#45;izq&#45;&gt;raiz&#45;der&#45;izq&#45;izq&#45;izq&#45;izq -->\n<g id=\"edge1\" class=\"edge\">\n<title>raiz&#45;der&#45;izq&#45;izq&#45;izq&#45;&gt;raiz&#45;der&#45;izq&#45;izq&#45;izq&#45;izq</title>\n<path fill=\"none\" stroke=\"#000000\" d=\"M202.03,-237.8642C181.7477,-223.0934 159.7494,-207.0729 140.3863,-192.9715\"/>\n<polygon fill=\"#000000\" stroke=\"#000000\" points=\"142.4059,-190.1126 132.2618,-187.0548 138.285,-195.7711 142.4059,-190.1126\"/>\n</g>\n<!-- raiz&#45;der&#45;izq&#45;izq&#45;izq&#45;der -->\n<g id=\"node8\" class=\"node\">\n<title>raiz&#45;der&#45;izq&#45;izq&#45;izq&#45;der</title>\n<polygon fill=\"none\" stroke=\"#000000\" points=\"351.5,-187 189.5,-187 189.5,-119 351.5,-119 351.5,-187\"/>\n<text text-anchor=\"middle\" x=\"270.5\" y=\"-171.8\" font-family=\"Arial\" font-size=\"14.00\" fill=\"#000000\">Clases = [1]</text>\n<text text-anchor=\"middle\" x=\"270.5\" y=\"-156.8\" font-family=\"Arial\" font-size=\"14.00\" fill=\"#000000\">Num. Clases = 1</text>\n<text text-anchor=\"middle\" x=\"270.5\" y=\"-141.8\" font-family=\"Arial\" font-size=\"14.00\" fill=\"#000000\">Impureza = 0.0</text>\n<text text-anchor=\"middle\" x=\"270.5\" y=\"-126.8\" font-family=\"Arial\" font-size=\"14.00\" fill=\"#000000\">Etiqueta = Iris&#45;virginica</text>\n</g>\n<!-- raiz&#45;der&#45;izq&#45;izq&#45;izq&#45;&gt;raiz&#45;der&#45;izq&#45;izq&#45;izq&#45;der -->\n<g id=\"edge2\" class=\"edge\">\n<title>raiz&#45;der&#45;izq&#45;izq&#45;izq&#45;&gt;raiz&#45;der&#45;izq&#45;izq&#45;izq&#45;der</title>\n<path fill=\"none\" stroke=\"#000000\" d=\"M269.8667,-237.8642C269.9661,-224.5441 270.0731,-210.2078 270.1703,-197.179\"/>\n<polygon fill=\"#000000\" stroke=\"#000000\" points=\"273.671,-197.0807 270.2459,-187.0548 266.6712,-197.0284 273.671,-197.0807\"/>\n</g>\n<!-- raiz&#45;der&#45;izq&#45;izq&#45;der&#45;izq -->\n<g id=\"node10\" class=\"node\">\n<title>raiz&#45;der&#45;izq&#45;izq&#45;der&#45;izq</title>\n<polygon fill=\"none\" stroke=\"#000000\" points=\"543,-202 372,-202 372,-104 543,-104 543,-202\"/>\n<text text-anchor=\"middle\" x=\"457.5\" y=\"-186.8\" font-family=\"Arial\" font-size=\"14.00\" fill=\"#000000\">Clases = [2, 1]</text>\n<text text-anchor=\"middle\" x=\"457.5\" y=\"-171.8\" font-family=\"Arial\" font-size=\"14.00\" fill=\"#000000\">Num. Clases = 3</text>\n<text text-anchor=\"middle\" x=\"457.5\" y=\"-156.8\" font-family=\"Arial\" font-size=\"14.00\" fill=\"#000000\">Impureza = 0.44444</text>\n<text text-anchor=\"middle\" x=\"457.5\" y=\"-141.8\" font-family=\"Arial\" font-size=\"14.00\" fill=\"#000000\">Etiqueta = Iris&#45;versicolor</text>\n<text text-anchor=\"middle\" x=\"457.5\" y=\"-126.8\" font-family=\"Arial\" font-size=\"14.00\" fill=\"#000000\">&#45;&#45;&#45;&#45;&#45;</text>\n<text text-anchor=\"middle\" x=\"457.5\" y=\"-111.8\" font-family=\"Arial\" font-size=\"14.00\" fill=\"#000000\">PetalLengthCm &lt;= 4.5</text>\n</g>\n<!-- raiz&#45;der&#45;izq&#45;izq&#45;der&#45;&gt;raiz&#45;der&#45;izq&#45;izq&#45;der&#45;izq -->\n<g id=\"edge5\" class=\"edge\">\n<title>raiz&#45;der&#45;izq&#45;izq&#45;der&#45;&gt;raiz&#45;der&#45;izq&#45;izq&#45;der&#45;izq</title>\n<path fill=\"none\" stroke=\"#000000\" d=\"M458.1333,-237.8642C458.0715,-229.5802 458.0067,-220.903 457.9432,-212.3918\"/>\n<polygon fill=\"#000000\" stroke=\"#000000\" points=\"461.4413,-212.1034 457.8666,-202.1298 454.4415,-212.1557 461.4413,-212.1034\"/>\n</g>\n<!-- raiz&#45;der&#45;izq&#45;izq&#45;der&#45;der -->\n<g id=\"node13\" class=\"node\">\n<title>raiz&#45;der&#45;izq&#45;izq&#45;der&#45;der</title>\n<polygon fill=\"none\" stroke=\"#000000\" points=\"732,-187 561,-187 561,-119 732,-119 732,-187\"/>\n<text text-anchor=\"middle\" x=\"646.5\" y=\"-171.8\" font-family=\"Arial\" font-size=\"14.00\" fill=\"#000000\">Clases = [31]</text>\n<text text-anchor=\"middle\" x=\"646.5\" y=\"-156.8\" font-family=\"Arial\" font-size=\"14.00\" fill=\"#000000\">Num. Clases = 31</text>\n<text text-anchor=\"middle\" x=\"646.5\" y=\"-141.8\" font-family=\"Arial\" font-size=\"14.00\" fill=\"#000000\">Impureza = 0.0</text>\n<text text-anchor=\"middle\" x=\"646.5\" y=\"-126.8\" font-family=\"Arial\" font-size=\"14.00\" fill=\"#000000\">Etiqueta = Iris&#45;versicolor</text>\n</g>\n<!-- raiz&#45;der&#45;izq&#45;izq&#45;der&#45;&gt;raiz&#45;der&#45;izq&#45;izq&#45;der&#45;der -->\n<g id=\"edge6\" class=\"edge\">\n<title>raiz&#45;der&#45;izq&#45;izq&#45;der&#45;&gt;raiz&#45;der&#45;izq&#45;izq&#45;der&#45;der</title>\n<path fill=\"none\" stroke=\"#000000\" d=\"M527.4367,-237.8642C548.16,-223.0934 570.6365,-207.0729 590.4205,-192.9715\"/>\n<polygon fill=\"#000000\" stroke=\"#000000\" points=\"592.6099,-195.7092 598.7216,-187.0548 588.5469,-190.0089 592.6099,-195.7092\"/>\n</g>\n<!-- raiz&#45;der&#45;izq&#45;izq&#45;der&#45;izq&#45;izq -->\n<g id=\"node11\" class=\"node\">\n<title>raiz&#45;der&#45;izq&#45;izq&#45;der&#45;izq&#45;izq</title>\n<polygon fill=\"none\" stroke=\"#000000\" points=\"451,-68 280,-68 280,0 451,0 451,-68\"/>\n<text text-anchor=\"middle\" x=\"365.5\" y=\"-52.8\" font-family=\"Arial\" font-size=\"14.00\" fill=\"#000000\">Clases = [2]</text>\n<text text-anchor=\"middle\" x=\"365.5\" y=\"-37.8\" font-family=\"Arial\" font-size=\"14.00\" fill=\"#000000\">Num. Clases = 2</text>\n<text text-anchor=\"middle\" x=\"365.5\" y=\"-22.8\" font-family=\"Arial\" font-size=\"14.00\" fill=\"#000000\">Impureza = 0.0</text>\n<text text-anchor=\"middle\" x=\"365.5\" y=\"-7.8\" font-family=\"Arial\" font-size=\"14.00\" fill=\"#000000\">Etiqueta = Iris&#45;versicolor</text>\n</g>\n<!-- raiz&#45;der&#45;izq&#45;izq&#45;der&#45;izq&#45;&gt;raiz&#45;der&#45;izq&#45;izq&#45;der&#45;izq&#45;izq -->\n<g id=\"edge3\" class=\"edge\">\n<title>raiz&#45;der&#45;izq&#45;izq&#45;der&#45;izq&#45;&gt;raiz&#45;der&#45;izq&#45;izq&#45;der&#45;izq&#45;izq</title>\n<path fill=\"none\" stroke=\"#000000\" d=\"M419.5489,-103.9111C412.4245,-94.6958 405.0341,-85.1365 398.0905,-76.1551\"/>\n<polygon fill=\"#000000\" stroke=\"#000000\" points=\"400.7451,-73.8663 391.8597,-68.0956 395.2071,-78.1478 400.7451,-73.8663\"/>\n</g>\n<!-- raiz&#45;der&#45;izq&#45;izq&#45;der&#45;izq&#45;der -->\n<g id=\"node12\" class=\"node\">\n<title>raiz&#45;der&#45;izq&#45;izq&#45;der&#45;izq&#45;der</title>\n<polygon fill=\"none\" stroke=\"#000000\" points=\"631.5,-68 469.5,-68 469.5,0 631.5,0 631.5,-68\"/>\n<text text-anchor=\"middle\" x=\"550.5\" y=\"-52.8\" font-family=\"Arial\" font-size=\"14.00\" fill=\"#000000\">Clases = [1]</text>\n<text text-anchor=\"middle\" x=\"550.5\" y=\"-37.8\" font-family=\"Arial\" font-size=\"14.00\" fill=\"#000000\">Num. Clases = 1</text>\n<text text-anchor=\"middle\" x=\"550.5\" y=\"-22.8\" font-family=\"Arial\" font-size=\"14.00\" fill=\"#000000\">Impureza = 0.0</text>\n<text text-anchor=\"middle\" x=\"550.5\" y=\"-7.8\" font-family=\"Arial\" font-size=\"14.00\" fill=\"#000000\">Etiqueta = Iris&#45;virginica</text>\n</g>\n<!-- raiz&#45;der&#45;izq&#45;izq&#45;der&#45;izq&#45;&gt;raiz&#45;der&#45;izq&#45;izq&#45;der&#45;izq&#45;der -->\n<g id=\"edge4\" class=\"edge\">\n<title>raiz&#45;der&#45;izq&#45;izq&#45;der&#45;izq&#45;&gt;raiz&#45;der&#45;izq&#45;izq&#45;der&#45;izq&#45;der</title>\n<path fill=\"none\" stroke=\"#000000\" d=\"M495.8636,-103.9111C503.0655,-94.6958 510.5362,-85.1365 517.5553,-76.1551\"/>\n<polygon fill=\"#000000\" stroke=\"#000000\" points=\"520.4538,-78.1301 523.8538,-68.0956 514.9383,-73.8197 520.4538,-78.1301\"/>\n</g>\n<!-- raiz&#45;der&#45;der&#45;izq -->\n<g id=\"node16\" class=\"node\">\n<title>raiz&#45;der&#45;der&#45;izq</title>\n<polygon fill=\"none\" stroke=\"#000000\" points=\"872.5,-470 698.5,-470 698.5,-372 872.5,-372 872.5,-470\"/>\n<text text-anchor=\"middle\" x=\"785.5\" y=\"-454.8\" font-family=\"Arial\" font-size=\"14.00\" fill=\"#000000\">Clases = [2, 1]</text>\n<text text-anchor=\"middle\" x=\"785.5\" y=\"-439.8\" font-family=\"Arial\" font-size=\"14.00\" fill=\"#000000\">Num. Clases = 3</text>\n<text text-anchor=\"middle\" x=\"785.5\" y=\"-424.8\" font-family=\"Arial\" font-size=\"14.00\" fill=\"#000000\">Impureza = 0.44444</text>\n<text text-anchor=\"middle\" x=\"785.5\" y=\"-409.8\" font-family=\"Arial\" font-size=\"14.00\" fill=\"#000000\">Etiqueta = Iris&#45;virginica</text>\n<text text-anchor=\"middle\" x=\"785.5\" y=\"-394.8\" font-family=\"Arial\" font-size=\"14.00\" fill=\"#000000\">&#45;&#45;&#45;&#45;&#45;</text>\n<text text-anchor=\"middle\" x=\"785.5\" y=\"-379.8\" font-family=\"Arial\" font-size=\"14.00\" fill=\"#000000\">SepalLengthCm &lt;= 5.95</text>\n</g>\n<!-- raiz&#45;der&#45;der&#45;&gt;raiz&#45;der&#45;der&#45;izq -->\n<g id=\"edge13\" class=\"edge\">\n<title>raiz&#45;der&#45;der&#45;&gt;raiz&#45;der&#45;der&#45;izq</title>\n<path fill=\"none\" stroke=\"#000000\" d=\"M786.1333,-505.8642C786.0715,-497.5802 786.0067,-488.903 785.9432,-480.3918\"/>\n<polygon fill=\"#000000\" stroke=\"#000000\" points=\"789.4413,-480.1034 785.8666,-470.1298 782.4415,-480.1557 789.4413,-480.1034\"/>\n</g>\n<!-- raiz&#45;der&#45;der&#45;der -->\n<g id=\"node19\" class=\"node\">\n<title>raiz&#45;der&#45;der&#45;der</title>\n<polygon fill=\"none\" stroke=\"#000000\" points=\"1052.5,-455 890.5,-455 890.5,-387 1052.5,-387 1052.5,-455\"/>\n<text text-anchor=\"middle\" x=\"971.5\" y=\"-439.8\" font-family=\"Arial\" font-size=\"14.00\" fill=\"#000000\">Clases = [28]</text>\n<text text-anchor=\"middle\" x=\"971.5\" y=\"-424.8\" font-family=\"Arial\" font-size=\"14.00\" fill=\"#000000\">Num. Clases = 28</text>\n<text text-anchor=\"middle\" x=\"971.5\" y=\"-409.8\" font-family=\"Arial\" font-size=\"14.00\" fill=\"#000000\">Impureza = 0.0</text>\n<text text-anchor=\"middle\" x=\"971.5\" y=\"-394.8\" font-family=\"Arial\" font-size=\"14.00\" fill=\"#000000\">Etiqueta = Iris&#45;virginica</text>\n</g>\n<!-- raiz&#45;der&#45;der&#45;&gt;raiz&#45;der&#45;der&#45;der -->\n<g id=\"edge14\" class=\"edge\">\n<title>raiz&#45;der&#45;der&#45;&gt;raiz&#45;der&#45;der&#45;der</title>\n<path fill=\"none\" stroke=\"#000000\" d=\"M854.3367,-505.8642C874.7292,-491.0934 896.8471,-475.0729 916.3154,-460.9715\"/>\n<polygon fill=\"#000000\" stroke=\"#000000\" points=\"918.4384,-463.7555 924.484,-455.0548 914.3321,-458.0864 918.4384,-463.7555\"/>\n</g>\n<!-- raiz&#45;der&#45;der&#45;izq&#45;izq -->\n<g id=\"node17\" class=\"node\">\n<title>raiz&#45;der&#45;der&#45;izq&#45;izq</title>\n<polygon fill=\"none\" stroke=\"#000000\" points=\"825,-321 654,-321 654,-253 825,-253 825,-321\"/>\n<text text-anchor=\"middle\" x=\"739.5\" y=\"-305.8\" font-family=\"Arial\" font-size=\"14.00\" fill=\"#000000\">Clases = [1]</text>\n<text text-anchor=\"middle\" x=\"739.5\" y=\"-290.8\" font-family=\"Arial\" font-size=\"14.00\" fill=\"#000000\">Num. Clases = 1</text>\n<text text-anchor=\"middle\" x=\"739.5\" y=\"-275.8\" font-family=\"Arial\" font-size=\"14.00\" fill=\"#000000\">Impureza = 0.0</text>\n<text text-anchor=\"middle\" x=\"739.5\" y=\"-260.8\" font-family=\"Arial\" font-size=\"14.00\" fill=\"#000000\">Etiqueta = Iris&#45;versicolor</text>\n</g>\n<!-- raiz&#45;der&#45;der&#45;izq&#45;&gt;raiz&#45;der&#45;der&#45;izq&#45;izq -->\n<g id=\"edge11\" class=\"edge\">\n<title>raiz&#45;der&#45;der&#45;izq&#45;&gt;raiz&#45;der&#45;der&#45;izq&#45;izq</title>\n<path fill=\"none\" stroke=\"#000000\" d=\"M768.6325,-371.8642C764.0146,-358.4122 759.041,-343.9238 754.5332,-330.7923\"/>\n<polygon fill=\"#000000\" stroke=\"#000000\" points=\"757.7478,-329.3766 751.1905,-321.0548 751.127,-331.6495 757.7478,-329.3766\"/>\n</g>\n<!-- raiz&#45;der&#45;der&#45;izq&#45;der -->\n<g id=\"node18\" class=\"node\">\n<title>raiz&#45;der&#45;der&#45;izq&#45;der</title>\n<polygon fill=\"none\" stroke=\"#000000\" points=\"1005.5,-321 843.5,-321 843.5,-253 1005.5,-253 1005.5,-321\"/>\n<text text-anchor=\"middle\" x=\"924.5\" y=\"-305.8\" font-family=\"Arial\" font-size=\"14.00\" fill=\"#000000\">Clases = [2]</text>\n<text text-anchor=\"middle\" x=\"924.5\" y=\"-290.8\" font-family=\"Arial\" font-size=\"14.00\" fill=\"#000000\">Num. Clases = 2</text>\n<text text-anchor=\"middle\" x=\"924.5\" y=\"-275.8\" font-family=\"Arial\" font-size=\"14.00\" fill=\"#000000\">Impureza = 0.0</text>\n<text text-anchor=\"middle\" x=\"924.5\" y=\"-260.8\" font-family=\"Arial\" font-size=\"14.00\" fill=\"#000000\">Etiqueta = Iris&#45;virginica</text>\n</g>\n<!-- raiz&#45;der&#45;der&#45;izq&#45;&gt;raiz&#45;der&#45;der&#45;izq&#45;der -->\n<g id=\"edge12\" class=\"edge\">\n<title>raiz&#45;der&#45;der&#45;izq&#45;&gt;raiz&#45;der&#45;der&#45;izq&#45;der</title>\n<path fill=\"none\" stroke=\"#000000\" d=\"M836.4692,-371.8642C851.3807,-357.4891 867.5201,-341.9303 881.8573,-328.1088\"/>\n<polygon fill=\"#000000\" stroke=\"#000000\" points=\"884.4042,-330.515 889.1745,-321.0548 879.5459,-325.4755 884.4042,-330.515\"/>\n</g>\n</g>\n</svg>\n"
          },
          "metadata": {},
          "execution_count": 279
        }
      ]
    },
    {
      "cell_type": "markdown",
      "source": [
        "Ahora bien, para observar los árboles podados, ejecute el siguiente código:"
      ],
      "metadata": {
        "id": "8-b2cgTJ_VXQ"
      }
    },
    {
      "cell_type": "code",
      "source": [
        "alfas, arboles = clf.podado_minimos()\n",
        "print(\"Los alfas asociados a los nodos de enlace débil son: \",alfas)\n",
        "print(\"Los arboles están en una lista: \")\n",
        "arboles"
      ],
      "metadata": {
        "colab": {
          "base_uri": "https://localhost:8080/"
        },
        "id": "IGNcDZ53_Z6i",
        "outputId": "5874fd1a-b2d3-4de5-dc81-62d428caa67a"
      },
      "execution_count": 280,
      "outputs": [
        {
          "output_type": "stream",
          "name": "stdout",
          "text": [
            "Los alfas asociados a los nodos de enlace débil son:  [0, Fraction(1, 200), Fraction(1, 50), Fraction(29, 100), Fraction(31, 100)]\n",
            "Los arboles están en una lista: \n"
          ]
        },
        {
          "output_type": "execute_result",
          "data": {
            "text/plain": [
              "[<__main__.arbolClasificacion.nodo at 0x7f411b412a90>,\n",
              " <__main__.arbolClasificacion.nodo at 0x7f410e653690>,\n",
              " <__main__.arbolClasificacion.nodo at 0x7f410e5d8190>,\n",
              " <__main__.arbolClasificacion.nodo at 0x7f410e5d9190>,\n",
              " <__main__.arbolClasificacion.nodo at 0x7f410e5d9dd0>]"
            ]
          },
          "metadata": {},
          "execution_count": 280
        }
      ]
    },
    {
      "cell_type": "markdown",
      "source": [
        "Para observar la gráfica de algún arbol de la lista \"arboles\" ejecute el siguiente código:"
      ],
      "metadata": {
        "id": "YnMouieJ_q8t"
      }
    },
    {
      "cell_type": "code",
      "source": [
        "clf.graficarArbol(arboles[2]) #Evalua el árbol 2 de la lista"
      ],
      "metadata": {
        "colab": {
          "base_uri": "https://localhost:8080/",
          "height": 480
        },
        "id": "eqs4xTHo_pbm",
        "outputId": "b5963b8b-90ab-4bbb-eb9d-eb127f5c5f11"
      },
      "execution_count": 281,
      "outputs": [
        {
          "output_type": "execute_result",
          "data": {
            "text/plain": [
              "<graphviz.files.Source at 0x7f410e647410>"
            ],
            "image/svg+xml": "<?xml version=\"1.0\" encoding=\"UTF-8\" standalone=\"no\"?>\n<!DOCTYPE svg PUBLIC \"-//W3C//DTD SVG 1.1//EN\"\n \"http://www.w3.org/Graphics/SVG/1.1/DTD/svg11.dtd\">\n<!-- Generated by graphviz version 2.40.1 (20161225.0304)\n -->\n<!-- Title: %3 Pages: 1 -->\n<svg width=\"437pt\" height=\"344pt\"\n viewBox=\"0.00 0.00 437.00 344.00\" xmlns=\"http://www.w3.org/2000/svg\" xmlns:xlink=\"http://www.w3.org/1999/xlink\">\n<g id=\"graph0\" class=\"graph\" transform=\"scale(1 1) rotate(0) translate(4 340)\">\n<title>%3</title>\n<polygon fill=\"#ffffff\" stroke=\"transparent\" points=\"-4,4 -4,-340 433,-340 433,4 -4,4\"/>\n<!-- raiz -->\n<g id=\"node1\" class=\"node\">\n<title>raiz</title>\n<polygon fill=\"none\" stroke=\"#000000\" points=\"251.5,-336 80.5,-336 80.5,-238 251.5,-238 251.5,-336\"/>\n<text text-anchor=\"middle\" x=\"166\" y=\"-320.8\" font-family=\"Arial\" font-size=\"14.00\" fill=\"#000000\">Clases = [35, 34, 31]</text>\n<text text-anchor=\"middle\" x=\"166\" y=\"-305.8\" font-family=\"Arial\" font-size=\"14.00\" fill=\"#000000\">Num. Clases = 100</text>\n<text text-anchor=\"middle\" x=\"166\" y=\"-290.8\" font-family=\"Arial\" font-size=\"14.00\" fill=\"#000000\">Impureza = 0.6658</text>\n<text text-anchor=\"middle\" x=\"166\" y=\"-275.8\" font-family=\"Arial\" font-size=\"14.00\" fill=\"#000000\">Etiqueta = Iris&#45;versicolor</text>\n<text text-anchor=\"middle\" x=\"166\" y=\"-260.8\" font-family=\"Arial\" font-size=\"14.00\" fill=\"#000000\">&#45;&#45;&#45;&#45;&#45;</text>\n<text text-anchor=\"middle\" x=\"166\" y=\"-245.8\" font-family=\"Arial\" font-size=\"14.00\" fill=\"#000000\">PetalLengthCm &lt;= 2.45</text>\n</g>\n<!-- raiz&#45;izq -->\n<g id=\"node2\" class=\"node\">\n<title>raiz&#45;izq</title>\n<polygon fill=\"none\" stroke=\"#000000\" points=\"152,-187 0,-187 0,-119 152,-119 152,-187\"/>\n<text text-anchor=\"middle\" x=\"76\" y=\"-171.8\" font-family=\"Arial\" font-size=\"14.00\" fill=\"#000000\">Clases = [31]</text>\n<text text-anchor=\"middle\" x=\"76\" y=\"-156.8\" font-family=\"Arial\" font-size=\"14.00\" fill=\"#000000\">Num. Clases = 31</text>\n<text text-anchor=\"middle\" x=\"76\" y=\"-141.8\" font-family=\"Arial\" font-size=\"14.00\" fill=\"#000000\">Impureza = 0.0</text>\n<text text-anchor=\"middle\" x=\"76\" y=\"-126.8\" font-family=\"Arial\" font-size=\"14.00\" fill=\"#000000\">Etiqueta = Iris&#45;setosa</text>\n</g>\n<!-- raiz&#45;&gt;raiz&#45;izq -->\n<g id=\"edge3\" class=\"edge\">\n<title>raiz&#45;&gt;raiz&#45;izq</title>\n<path fill=\"none\" stroke=\"#000000\" d=\"M132.9984,-237.8642C123.6977,-224.0166 113.6594,-209.0706 104.637,-195.6373\"/>\n<polygon fill=\"#000000\" stroke=\"#000000\" points=\"107.3537,-193.4048 98.8726,-187.0548 101.5428,-197.3077 107.3537,-193.4048\"/>\n</g>\n<!-- raiz&#45;der -->\n<g id=\"node3\" class=\"node\">\n<title>raiz&#45;der</title>\n<polygon fill=\"none\" stroke=\"#000000\" points=\"341.5,-202 170.5,-202 170.5,-104 341.5,-104 341.5,-202\"/>\n<text text-anchor=\"middle\" x=\"256\" y=\"-186.8\" font-family=\"Arial\" font-size=\"14.00\" fill=\"#000000\">Clases = [35, 34]</text>\n<text text-anchor=\"middle\" x=\"256\" y=\"-171.8\" font-family=\"Arial\" font-size=\"14.00\" fill=\"#000000\">Num. Clases = 69</text>\n<text text-anchor=\"middle\" x=\"256\" y=\"-156.8\" font-family=\"Arial\" font-size=\"14.00\" fill=\"#000000\">Impureza = 0.49989</text>\n<text text-anchor=\"middle\" x=\"256\" y=\"-141.8\" font-family=\"Arial\" font-size=\"14.00\" fill=\"#000000\">Etiqueta = Iris&#45;versicolor</text>\n<text text-anchor=\"middle\" x=\"256\" y=\"-126.8\" font-family=\"Arial\" font-size=\"14.00\" fill=\"#000000\">&#45;&#45;&#45;&#45;&#45;</text>\n<text text-anchor=\"middle\" x=\"256\" y=\"-111.8\" font-family=\"Arial\" font-size=\"14.00\" fill=\"#000000\">PetalWidthCm &lt;= 1.75</text>\n</g>\n<!-- raiz&#45;&gt;raiz&#45;der -->\n<g id=\"edge4\" class=\"edge\">\n<title>raiz&#45;&gt;raiz&#45;der</title>\n<path fill=\"none\" stroke=\"#000000\" d=\"M199.0016,-237.8642C204.9324,-229.034 211.1632,-219.7571 217.2392,-210.7106\"/>\n<polygon fill=\"#000000\" stroke=\"#000000\" points=\"220.3322,-212.3827 223.0024,-202.1298 214.5213,-208.4798 220.3322,-212.3827\"/>\n</g>\n<!-- raiz&#45;der&#45;izq -->\n<g id=\"node4\" class=\"node\">\n<title>raiz&#45;der&#45;izq</title>\n<polygon fill=\"none\" stroke=\"#000000\" points=\"248.5,-68 77.5,-68 77.5,0 248.5,0 248.5,-68\"/>\n<text text-anchor=\"middle\" x=\"163\" y=\"-52.8\" font-family=\"Arial\" font-size=\"14.00\" fill=\"#000000\">Clases = [34, 4]</text>\n<text text-anchor=\"middle\" x=\"163\" y=\"-37.8\" font-family=\"Arial\" font-size=\"14.00\" fill=\"#000000\">Num. Clases = 38</text>\n<text text-anchor=\"middle\" x=\"163\" y=\"-22.8\" font-family=\"Arial\" font-size=\"14.00\" fill=\"#000000\">Impureza = 0.18837</text>\n<text text-anchor=\"middle\" x=\"163\" y=\"-7.8\" font-family=\"Arial\" font-size=\"14.00\" fill=\"#000000\">Etiqueta = Iris&#45;versicolor</text>\n</g>\n<!-- raiz&#45;der&#45;&gt;raiz&#45;der&#45;izq -->\n<g id=\"edge1\" class=\"edge\">\n<title>raiz&#45;der&#45;&gt;raiz&#45;der&#45;izq</title>\n<path fill=\"none\" stroke=\"#000000\" d=\"M217.6364,-103.9111C210.4345,-94.6958 202.9638,-85.1365 195.9447,-76.1551\"/>\n<polygon fill=\"#000000\" stroke=\"#000000\" points=\"198.5617,-73.8197 189.6462,-68.0956 193.0462,-78.1301 198.5617,-73.8197\"/>\n</g>\n<!-- raiz&#45;der&#45;der -->\n<g id=\"node5\" class=\"node\">\n<title>raiz&#45;der&#45;der</title>\n<polygon fill=\"none\" stroke=\"#000000\" points=\"429,-68 267,-68 267,0 429,0 429,-68\"/>\n<text text-anchor=\"middle\" x=\"348\" y=\"-52.8\" font-family=\"Arial\" font-size=\"14.00\" fill=\"#000000\">Clases = [30, 1]</text>\n<text text-anchor=\"middle\" x=\"348\" y=\"-37.8\" font-family=\"Arial\" font-size=\"14.00\" fill=\"#000000\">Num. Clases = 31</text>\n<text text-anchor=\"middle\" x=\"348\" y=\"-22.8\" font-family=\"Arial\" font-size=\"14.00\" fill=\"#000000\">Impureza = 0.06243</text>\n<text text-anchor=\"middle\" x=\"348\" y=\"-7.8\" font-family=\"Arial\" font-size=\"14.00\" fill=\"#000000\">Etiqueta = Iris&#45;virginica</text>\n</g>\n<!-- raiz&#45;der&#45;&gt;raiz&#45;der&#45;der -->\n<g id=\"edge2\" class=\"edge\">\n<title>raiz&#45;der&#45;&gt;raiz&#45;der&#45;der</title>\n<path fill=\"none\" stroke=\"#000000\" d=\"M293.9511,-103.9111C301.0755,-94.6958 308.4659,-85.1365 315.4095,-76.1551\"/>\n<polygon fill=\"#000000\" stroke=\"#000000\" points=\"318.2929,-78.1478 321.6403,-68.0956 312.7549,-73.8663 318.2929,-78.1478\"/>\n</g>\n</g>\n</svg>\n"
          },
          "metadata": {},
          "execution_count": 281
        }
      ]
    },
    {
      "cell_type": "markdown",
      "source": [
        "Para predecir nuevos datos puede ejecutar el siguiente código:"
      ],
      "metadata": {
        "id": "mssj6xseAb2U"
      }
    },
    {
      "cell_type": "code",
      "source": [
        "#Si quiere predecir para el árbol extendido al máximo:\n",
        "pred_arbolmax = clf.predict(X_train)\n",
        "#Si quiere predecir con los árboles podados:\n",
        "pred_arbol2 = clf._predict(X_train,arboles[2])"
      ],
      "metadata": {
        "id": "IVDmp-FDAbUS"
      },
      "execution_count": 289,
      "outputs": []
    },
    {
      "cell_type": "markdown",
      "source": [
        "Ahora bien, se observará el rendimiento de los árboles podados:"
      ],
      "metadata": {
        "id": "CfAVtWGbBCbg"
      }
    },
    {
      "cell_type": "code",
      "source": [
        "from sklearn.metrics import accuracy_score\n",
        "for i in range(len(arboles)):\n",
        "  y_pred = clf._predict(X_test,arboles[i])\n",
        "  print(\"Precisión del árbol con alfa = \",alfas[i],\": \",accuracy_score(y_test, y_pred))"
      ],
      "metadata": {
        "colab": {
          "base_uri": "https://localhost:8080/"
        },
        "id": "tZmY7tBXAZG3",
        "outputId": "e2e079a6-87d3-40a9-f1a1-710b4c6bf99c"
      },
      "execution_count": 291,
      "outputs": [
        {
          "output_type": "stream",
          "name": "stdout",
          "text": [
            "Precisión del árbol con alfa =  0 :  0.98\n",
            "Precisión del árbol con alfa =  1/200 :  0.98\n",
            "Precisión del árbol con alfa =  1/50 :  0.98\n",
            "Precisión del árbol con alfa =  29/100 :  0.68\n",
            "Precisión del árbol con alfa =  31/100 :  0.3\n"
          ]
        }
      ]
    }
  ],
  "metadata": {
    "kernelspec": {
      "display_name": "Python 3.10.3 64-bit",
      "language": "python",
      "name": "python3"
    },
    "language_info": {
      "codemirror_mode": {
        "name": "ipython",
        "version": 3
      },
      "file_extension": ".py",
      "mimetype": "text/x-python",
      "name": "python",
      "nbconvert_exporter": "python",
      "pygments_lexer": "ipython3",
      "version": "3.10.3"
    },
    "orig_nbformat": 4,
    "vscode": {
      "interpreter": {
        "hash": "1e557bd2df5c38a55fcb8ced3c8ad89ba54ecfb1303f7e06b2250382b977f9b2"
      }
    },
    "colab": {
      "name": "arbolesClasificacion.ipynb",
      "provenance": []
    }
  },
  "nbformat": 4,
  "nbformat_minor": 0
}